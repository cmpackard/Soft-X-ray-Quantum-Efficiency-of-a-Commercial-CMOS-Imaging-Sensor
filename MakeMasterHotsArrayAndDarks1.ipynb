{
 "cells": [
  {
   "cell_type": "code",
   "execution_count": 1,
   "id": "d730873a",
   "metadata": {},
   "outputs": [],
   "source": [
    "%matplotlib widget"
   ]
  },
  {
   "cell_type": "code",
   "execution_count": 2,
   "id": "52647d36",
   "metadata": {},
   "outputs": [],
   "source": [
    "import sys\n",
    "import os\n",
    "import time\n",
    "import math as math\n",
    "from datetime import datetime\n",
    "import numpy as np\n",
    "import astropy as ast\n",
    "from astropy.io import fits\n",
    "import astropy.io.fits as pyfits\n",
    "from astropy.table import Table, hstack, vstack, Column\n",
    "from astropy.stats import sigma_clipped_stats\n",
    "from astropy.coordinates import Angle\n",
    "from astropy.time import Time\n",
    "from photutils.aperture import EllipticalAnnulus, aperture_photometry\n",
    "import matplotlib\n",
    "import matplotlib.pyplot as plt\n",
    "import scipy as sp\n",
    "import scipy.integrate\n",
    "import scipy.constants\n",
    "import scipy.special\n",
    "from scipy import integrate\n",
    "from scipy.optimize import curve_fit\n",
    "import scipy.interpolate\n",
    "from scipy.interpolate import CubicSpline\n",
    "import glob2\n",
    "import shutil\n",
    "from IPython.display import clear_output\n",
    "from mpl_toolkits.axes_grid1 import make_axes_locatable\n",
    "from mpl_toolkits.mplot3d import axes3d\n",
    "from tqdm.notebook import tqdm as tqdm\n",
    "\n",
    "import Utility3_4 as ut\n",
    "\n",
    "pi = sp.constants.pi\n",
    "k= sp.constants.k\n",
    "q_e = sp.constants.e\n",
    "\n",
    "DimY = 1096\n",
    "DimX = 1936\n",
    "\n",
    "DisectString = '\\1/'\n",
    "BackSlash = DisectString[0]\n",
    "ForwardSlash = '/'"
   ]
  },
  {
   "cell_type": "code",
   "execution_count": 17,
   "id": "85b43820",
   "metadata": {},
   "outputs": [],
   "source": [
    "#Making a list of all set names\n",
    "SetNamesList = ['X0_Y0','X0_YM1','X0_YM2','X0_YM3','X0_YP1','X0_YP2','X0_YP3','XM2_Y0','XM2_YM1','XM2_YP1','XP2_Y0','XP2_YM1','XP2_YP1','XP4_Y0']\n",
    "#incomplete because I have to do the steady stating for the gain observations then add them too."
   ]
  },
  {
   "cell_type": "code",
   "execution_count": 18,
   "id": "ccc85fb6",
   "metadata": {},
   "outputs": [
    {
     "data": {
      "application/vnd.jupyter.widget-view+json": {
       "model_id": "04e36fd691064bdda998e552a3a86be5",
       "version_major": 2,
       "version_minor": 0
      },
      "text/plain": [
       "  0%|          | 0/246 [00:00<?, ?it/s]"
      ]
     },
     "metadata": {},
     "output_type": "display_data"
    },
    {
     "data": {
      "application/vnd.jupyter.widget-view+json": {
       "model_id": "2919c8669c044fcaa93fa8023cf1db85",
       "version_major": 2,
       "version_minor": 0
      },
      "text/plain": [
       "  0%|          | 0/36 [00:00<?, ?it/s]"
      ]
     },
     "metadata": {},
     "output_type": "display_data"
    },
    {
     "data": {
      "application/vnd.jupyter.widget-view+json": {
       "model_id": "a20f0e278f4f466b92124c3fff9b4cc1",
       "version_major": 2,
       "version_minor": 0
      },
      "text/plain": [
       "  0%|          | 0/48 [00:00<?, ?it/s]"
      ]
     },
     "metadata": {},
     "output_type": "display_data"
    },
    {
     "data": {
      "application/vnd.jupyter.widget-view+json": {
       "model_id": "2e8f631f31d1474ea6b0096988edaae3",
       "version_major": 2,
       "version_minor": 0
      },
      "text/plain": [
       "  0%|          | 0/50 [00:00<?, ?it/s]"
      ]
     },
     "metadata": {},
     "output_type": "display_data"
    },
    {
     "data": {
      "application/vnd.jupyter.widget-view+json": {
       "model_id": "51d7b7dbdcb242d183e0894fabbd0ff1",
       "version_major": 2,
       "version_minor": 0
      },
      "text/plain": [
       "  0%|          | 0/49 [00:00<?, ?it/s]"
      ]
     },
     "metadata": {},
     "output_type": "display_data"
    },
    {
     "data": {
      "application/vnd.jupyter.widget-view+json": {
       "model_id": "ef49c717ec43409a8ce82a91a501eccd",
       "version_major": 2,
       "version_minor": 0
      },
      "text/plain": [
       "  0%|          | 0/49 [00:00<?, ?it/s]"
      ]
     },
     "metadata": {},
     "output_type": "display_data"
    },
    {
     "data": {
      "application/vnd.jupyter.widget-view+json": {
       "model_id": "127c8f4d15974207a5a2cac28d5b01b0",
       "version_major": 2,
       "version_minor": 0
      },
      "text/plain": [
       "  0%|          | 0/49 [00:00<?, ?it/s]"
      ]
     },
     "metadata": {},
     "output_type": "display_data"
    },
    {
     "data": {
      "application/vnd.jupyter.widget-view+json": {
       "model_id": "7eddf802f2a64f6fa147dd008169b82c",
       "version_major": 2,
       "version_minor": 0
      },
      "text/plain": [
       "  0%|          | 0/36 [00:00<?, ?it/s]"
      ]
     },
     "metadata": {},
     "output_type": "display_data"
    },
    {
     "data": {
      "application/vnd.jupyter.widget-view+json": {
       "model_id": "dee9558797f649c4936d0672aa916221",
       "version_major": 2,
       "version_minor": 0
      },
      "text/plain": [
       "  0%|          | 0/48 [00:00<?, ?it/s]"
      ]
     },
     "metadata": {},
     "output_type": "display_data"
    },
    {
     "data": {
      "application/vnd.jupyter.widget-view+json": {
       "model_id": "acb2b00f6e264f459c3e1af2a75a8e1c",
       "version_major": 2,
       "version_minor": 0
      },
      "text/plain": [
       "  0%|          | 0/51 [00:00<?, ?it/s]"
      ]
     },
     "metadata": {},
     "output_type": "display_data"
    },
    {
     "data": {
      "application/vnd.jupyter.widget-view+json": {
       "model_id": "0be81502094a480495d87f471333d9f1",
       "version_major": 2,
       "version_minor": 0
      },
      "text/plain": [
       "  0%|          | 0/40 [00:00<?, ?it/s]"
      ]
     },
     "metadata": {},
     "output_type": "display_data"
    },
    {
     "data": {
      "application/vnd.jupyter.widget-view+json": {
       "model_id": "955fe9703f0749b497cd4a53d514f0ff",
       "version_major": 2,
       "version_minor": 0
      },
      "text/plain": [
       "  0%|          | 0/49 [00:00<?, ?it/s]"
      ]
     },
     "metadata": {},
     "output_type": "display_data"
    },
    {
     "data": {
      "application/vnd.jupyter.widget-view+json": {
       "model_id": "51a76eaac67c4828b85bd0f67199aeb8",
       "version_major": 2,
       "version_minor": 0
      },
      "text/plain": [
       "  0%|          | 0/49 [00:00<?, ?it/s]"
      ]
     },
     "metadata": {},
     "output_type": "display_data"
    },
    {
     "data": {
      "application/vnd.jupyter.widget-view+json": {
       "model_id": "6d94d67165b0406aa7a7794ab01e1085",
       "version_major": 2,
       "version_minor": 0
      },
      "text/plain": [
       "  0%|          | 0/48 [00:00<?, ?it/s]"
      ]
     },
     "metadata": {},
     "output_type": "display_data"
    },
    {
     "data": {
      "application/vnd.jupyter.widget-view+json": {
       "model_id": "1eee2e27047b499fabbabf09dd3499ef",
       "version_major": 2,
       "version_minor": 0
      },
      "text/plain": [
       "  0%|          | 0/99 [00:00<?, ?it/s]"
      ]
     },
     "metadata": {},
     "output_type": "display_data"
    },
    {
     "data": {
      "application/vnd.jupyter.widget-view+json": {
       "model_id": "e65ae5213f6b43b5ba5a461a378d3dad",
       "version_major": 2,
       "version_minor": 0
      },
      "text/plain": [
       "  0%|          | 0/99 [00:00<?, ?it/s]"
      ]
     },
     "metadata": {},
     "output_type": "display_data"
    }
   ],
   "source": [
    "#Analyzing the most recent sets of Dark Frames\n",
    "DimY = 1096\n",
    "DimX = 1936\n",
    "hotsig = 5.0 #Number of stdevs above a frame's median a pixel must be to be considered hot.\n",
    "hotfrac = 0.1 #The fraction of the frames in a given set a certain pixel must be hot in order to be recorded as hot in the HotsArray\n",
    "\n",
    "DarkFrameName = 'PrelimMeanCS_Dark'\n",
    "HotsArrayName = 'PrelimHotsArray'\n",
    "\n",
    "HotCount = []\n",
    "HotFrac = []\n",
    "FrameMediansList = []\n",
    "FrameStdsList = []\n",
    "\n",
    "for i in range(len(SetNamesList)):\n",
    "    SetName = SetNamesList[i]\n",
    "    \n",
    "    #OpenDirectory\n",
    "    DataDirectory = 'SteadyStateDataSets/' + SetName + '\\CS_Darks/'\n",
    "    filepatternOpen = '*.FTS'\n",
    "    \n",
    "    #SaveDirectory\n",
    "    SaveDirectory = 'SteadyStateDataSets/' + SetName + ForwardSlash \n",
    "    \n",
    "    #print(datadirectoryOpen + folderOpen)\n",
    "    #print(datadirectorySave + folderSave)\n",
    "    #print(SaveDirectory)\n",
    "    MeanDarkFrame, HotsArray, FrameMedians, FrameStds = ut.ReturnMasterDarkAndHotsArrayExtra(DataDirectory,filepatternOpen,DimX,DimY,hotsig,hotfrac)\n",
    "    \n",
    "    #np.savetxt(SaveDirectory + DarkFrameName +'.csv', MeanDarkFrame, delimiter=',')\n",
    "    #np.savetxt(SaveDirectory + HotsArrayName +'.csv', HotsArray, delimiter=',')\n",
    "    \n",
    "    #print(SetName + ' Preliminary Hot Pixel Count' + \": \" + str(np.sum(HotsArray)))\n",
    "    \n",
    "    HotCount.append(np.sum(HotsArray))\n",
    "    HotFrac.append(np.sum(HotsArray)/(DimX*DimY))\n",
    "    FrameMediansList.append(FrameMedians)\n",
    "    FrameStdsList.append(FrameStds)\n",
    "    \n",
    "#Analyzing old sets of Dark Frames\n",
    "ComboSetNamesList = SetNamesList\n",
    "\n",
    "#for entry in SetNamesList:\n",
    "    #ComboSetNamesList.append[entry]\n",
    "\n",
    "DataDirectory = 'OldCS300msDark/'\n",
    "filepatternOpen = '*.FTS'\n",
    "\n",
    "MeanDarkFrame, HotsArray, FrameMedians, FrameStds = ut.ReturnMasterDarkAndHotsArrayExtra(DataDirectory,filepatternOpen,DimX,DimY,hotsig,hotfrac)\n",
    "\n",
    "HotCount.append(np.sum(HotsArray))\n",
    "HotFrac.append(np.sum(HotsArray)/(DimX*DimY))\n",
    "FrameMediansList.append(FrameMedians)\n",
    "FrameStdsList.append(FrameStds)\n",
    "\n",
    "ComboSetNamesList.append('OldCS300msDark')\n",
    "\n",
    "DataDirectory = 'OldCS1000msDark/'\n",
    "filepatternOpen = '*.FTS'\n",
    "\n",
    "MeanDarkFrame, HotsArray, FrameMedians, FrameStds = ut.ReturnMasterDarkAndHotsArrayExtra(DataDirectory,filepatternOpen,DimX,DimY,hotsig,hotfrac)\n",
    "\n",
    "HotCount.append(np.sum(HotsArray))\n",
    "HotFrac.append(np.sum(HotsArray)/(DimX*DimY))\n",
    "FrameMediansList.append(FrameMedians)\n",
    "FrameStdsList.append(FrameStds)\n",
    "\n",
    "ComboSetNamesList.append('OldCS1000msDark')\n"
   ]
  },
  {
   "cell_type": "code",
   "execution_count": 25,
   "id": "5873a7e8",
   "metadata": {
    "scrolled": false
   },
   "outputs": [
    {
     "name": "stdout",
     "output_type": "stream",
     "text": [
      "_________________________\n",
      "\n",
      " Set: X0_Y0\n",
      "-------------------------\n",
      " Hot Pixel Count: 270.0\n",
      " Hot Pixel Fraction: 0.0127%\n",
      " Mean Frame Median: 4.0\n",
      " Mean Frame Std: 3.1\n",
      "_________________________\n",
      "\n",
      " Set: X0_YM1\n",
      "-------------------------\n",
      " Hot Pixel Count: 270.0\n",
      " Hot Pixel Fraction: 0.0127%\n",
      " Mean Frame Median: 4.0\n",
      " Mean Frame Std: 3.07\n",
      "_________________________\n",
      "\n",
      " Set: X0_YM2\n",
      "-------------------------\n",
      " Hot Pixel Count: 272.0\n",
      " Hot Pixel Fraction: 0.0128%\n",
      " Mean Frame Median: 4.0\n",
      " Mean Frame Std: 3.12\n",
      "_________________________\n",
      "\n",
      " Set: X0_YM3\n",
      "-------------------------\n",
      " Hot Pixel Count: 270.0\n",
      " Hot Pixel Fraction: 0.0127%\n",
      " Mean Frame Median: 4.0\n",
      " Mean Frame Std: 3.11\n",
      "_________________________\n",
      "\n",
      " Set: X0_YP1\n",
      "-------------------------\n",
      " Hot Pixel Count: 270.0\n",
      " Hot Pixel Fraction: 0.0127%\n",
      " Mean Frame Median: 4.0\n",
      " Mean Frame Std: 3.1\n",
      "_________________________\n",
      "\n",
      " Set: X0_YP2\n",
      "-------------------------\n",
      " Hot Pixel Count: 272.0\n",
      " Hot Pixel Fraction: 0.0128%\n",
      " Mean Frame Median: 4.0\n",
      " Mean Frame Std: 3.08\n",
      "_________________________\n",
      "\n",
      " Set: X0_YP3\n",
      "-------------------------\n",
      " Hot Pixel Count: 271.0\n",
      " Hot Pixel Fraction: 0.0128%\n",
      " Mean Frame Median: 4.0\n",
      " Mean Frame Std: 3.12\n",
      "_________________________\n",
      "\n",
      " Set: XM2_Y0\n",
      "-------------------------\n",
      " Hot Pixel Count: 271.0\n",
      " Hot Pixel Fraction: 0.0128%\n",
      " Mean Frame Median: 5.0\n",
      " Mean Frame Std: 3.04\n",
      "_________________________\n",
      "\n",
      " Set: XM2_YM1\n",
      "-------------------------\n",
      " Hot Pixel Count: 271.0\n",
      " Hot Pixel Fraction: 0.0128%\n",
      " Mean Frame Median: 4.0\n",
      " Mean Frame Std: 3.07\n",
      "_________________________\n",
      "\n",
      " Set: XM2_YP1\n",
      "-------------------------\n",
      " Hot Pixel Count: 268.0\n",
      " Hot Pixel Fraction: 0.0126%\n",
      " Mean Frame Median: 4.0\n",
      " Mean Frame Std: 3.06\n",
      "_________________________\n",
      "\n",
      " Set: XP2_Y0\n",
      "-------------------------\n",
      " Hot Pixel Count: 269.0\n",
      " Hot Pixel Fraction: 0.0127%\n",
      " Mean Frame Median: 4.0\n",
      " Mean Frame Std: 3.08\n",
      "_________________________\n",
      "\n",
      " Set: XP2_YM1\n",
      "-------------------------\n",
      " Hot Pixel Count: 270.0\n",
      " Hot Pixel Fraction: 0.0127%\n",
      " Mean Frame Median: 4.0\n",
      " Mean Frame Std: 3.11\n",
      "_________________________\n",
      "\n",
      " Set: XP2_YP1\n",
      "-------------------------\n",
      " Hot Pixel Count: 270.0\n",
      " Hot Pixel Fraction: 0.0127%\n",
      " Mean Frame Median: 4.0\n",
      " Mean Frame Std: 3.12\n",
      "_________________________\n",
      "\n",
      " Set: XP4_Y0\n",
      "-------------------------\n",
      " Hot Pixel Count: 272.0\n",
      " Hot Pixel Fraction: 0.0128%\n",
      " Mean Frame Median: 4.0\n",
      " Mean Frame Std: 3.11\n",
      "_________________________\n",
      "\n",
      " Set: OldCS300msDark\n",
      "-------------------------\n",
      " Hot Pixel Count: 1759.0\n",
      " Hot Pixel Fraction: 0.0829%\n",
      " Mean Frame Median: 4.0\n",
      " Mean Frame Std: 1.14\n",
      "_________________________\n",
      "\n",
      " Set: OldCS1000msDark\n",
      "-------------------------\n",
      " Hot Pixel Count: 725.0\n",
      " Hot Pixel Fraction: 0.0342%\n",
      " Mean Frame Median: 3.01\n",
      " Mean Frame Std: 1.46\n",
      "_________________________\n"
     ]
    }
   ],
   "source": [
    "for i in range(len(ComboSetNamesList)):\n",
    "    SetName = ComboSetNamesList[i]\n",
    "    MeanFrameMedian = np.mean(FrameMediansList[i])\n",
    "    MeanFrameStd = np.mean(FrameStdsList[i])\n",
    "    print(\"_________________________\")\n",
    "    print(\"\")\n",
    "    print(\" Set: \"+ SetName)\n",
    "    print(\"-------------------------\")\n",
    "    print(\" Hot Pixel Count: \" + str(HotCount[i]))\n",
    "    print(\" Hot Pixel Fraction: \" + str(round(HotFrac[i]*100,4))+\"%\")\n",
    "    print(\" Mean Frame Median: \" + str(round(MeanFrameMedian,2)))\n",
    "    print(\" Mean Frame Std: \" + str(round(MeanFrameStd,2)))\n",
    "    \n",
    "print(\"_________________________\")"
   ]
  },
  {
   "cell_type": "markdown",
   "id": "d96914cd",
   "metadata": {},
   "source": [
    "Seeing if the new hots arrays have hotpixels that the old arrays didn't have."
   ]
  },
  {
   "cell_type": "code",
   "execution_count": 27,
   "id": "5997bee8",
   "metadata": {},
   "outputs": [
    {
     "data": {
      "application/vnd.jupyter.widget-view+json": {
       "model_id": "9f41a2a3589d4b29b44ce5955a10e5a3",
       "version_major": 2,
       "version_minor": 0
      },
      "text/plain": [
       "  0%|          | 0/99 [00:00<?, ?it/s]"
      ]
     },
     "metadata": {},
     "output_type": "display_data"
    },
    {
     "data": {
      "application/vnd.jupyter.widget-view+json": {
       "model_id": "ddc1e0e3a0a74f1198583a66c33274e1",
       "version_major": 2,
       "version_minor": 0
      },
      "text/plain": [
       "  0%|          | 0/99 [00:00<?, ?it/s]"
      ]
     },
     "metadata": {},
     "output_type": "display_data"
    }
   ],
   "source": [
    "DataDirectory = 'OldCS300msDark/'\n",
    "filepatternOpen = '*.FTS'\n",
    "SaveDirectory = 'OldHotsArrays/'\n",
    "\n",
    "MeanDarkFrame, HotsArray, FrameMedians, FrameStds = ut.ReturnMasterDarkAndHotsArrayExtra(DataDirectory,filepatternOpen,DimX,DimY,hotsig,hotfrac)\n",
    "\n",
    "np.savetxt(SaveDirectory + 'Old300msHotsArray' +'.csv', HotsArray, delimiter=',')\n",
    "\n",
    "DataDirectory = 'OldCS1000msDark/'\n",
    "filepatternOpen = '*.FTS'\n",
    "\n",
    "MeanDarkFrame, HotsArray, FrameMedians, FrameStds = ut.ReturnMasterDarkAndHotsArrayExtra(DataDirectory,filepatternOpen,DimX,DimY,hotsig,hotfrac)\n",
    "\n",
    "np.savetxt(SaveDirectory + 'Old1000msHotsArray' +'.csv', HotsArray, delimiter=',')\n"
   ]
  },
  {
   "cell_type": "code",
   "execution_count": 3,
   "id": "d6b93f4f",
   "metadata": {},
   "outputs": [
    {
     "data": {
      "application/vnd.jupyter.widget-view+json": {
       "model_id": "c2ae61603d3b4f0296cd7b8d55051af6",
       "version_major": 2,
       "version_minor": 0
      },
      "text/plain": [
       "  0%|          | 0/44 [00:00<?, ?it/s]"
      ]
     },
     "metadata": {},
     "output_type": "display_data"
    },
    {
     "name": "stderr",
     "output_type": "stream",
     "text": [
      "C:\\Users\\Colin Packard\\PythonWorkspace\\Argonne12_01\\Utility3_4.py:290: RuntimeWarning: invalid value encountered in sqrt\n",
      "  StdDarkFrame = np.sqrt((SumDarkSquared/len(ImagesList)) - MeanDarkFrame**2)\n"
     ]
    }
   ],
   "source": [
    "#Make the prelim HotsArray for X0_YP2_981eV\n",
    "SetName = 'X0_YP2_981eV'\n",
    "DataDirectory = 'SteadyStateDataSets/Gain_Data/' + SetName + '\\CS_Darks/'\n",
    "filepatternOpen = '*.FTS'\n",
    "\n",
    "DimY = 1096\n",
    "DimX = 1936\n",
    "hotsig = 5.0 #Number of stdevs above a frame's median a pixel must be to be considered hot.\n",
    "hotfrac = 0.1 #The fraction of the frames in a given set a certain pixel must be hot in order to be recorded as hot in the HotsArray\n",
    "\n",
    "DarkFrameName = 'PrelimMeanCS_Dark2'\n",
    "HotsArrayName = 'PrelimHotsArray'\n",
    "\n",
    "#SaveDirectory\n",
    "SaveDirectory = 'SteadyStateDataSets/Gain_Data/' + SetName + ForwardSlash \n",
    "\n",
    "MeanDarkFrame, HotsArray, FrameMedians, FrameStds = ut.ReturnMasterDarkAndHotsArrayExtra(DataDirectory,filepatternOpen,DimX,DimY,hotsig,hotfrac)\n",
    "\n",
    "np.savetxt(SaveDirectory + DarkFrameName +'.csv', MeanDarkFrame, delimiter=',')\n",
    "np.savetxt(SaveDirectory + HotsArrayName +'.csv', HotsArray, delimiter=',')"
   ]
  },
  {
   "cell_type": "code",
   "execution_count": 7,
   "id": "a0ebd598",
   "metadata": {
    "scrolled": false
   },
   "outputs": [
    {
     "name": "stdout",
     "output_type": "stream",
     "text": [
      "_________________________\n",
      "\n",
      " Set: X0_Y0\n",
      "-------------------------\n",
      " Number of New Hot Pixels: 35.0\n",
      " Number of New Hot Pixels 300ms: 48.0\n",
      " Number of New Hot Pixels 1000ms: 35.0\n",
      "_________________________\n",
      "\n",
      " Set: X0_YM1\n",
      "-------------------------\n",
      " Number of New Hot Pixels: 35.0\n",
      " Number of New Hot Pixels 300ms: 48.0\n",
      " Number of New Hot Pixels 1000ms: 35.0\n",
      "_________________________\n",
      "\n",
      " Set: X0_YM2\n",
      "-------------------------\n",
      " Number of New Hot Pixels: 35.0\n",
      " Number of New Hot Pixels 300ms: 50.0\n",
      " Number of New Hot Pixels 1000ms: 35.0\n",
      "_________________________\n",
      "\n",
      " Set: X0_YM3\n",
      "-------------------------\n",
      " Number of New Hot Pixels: 35.0\n",
      " Number of New Hot Pixels 300ms: 48.0\n",
      " Number of New Hot Pixels 1000ms: 35.0\n",
      "_________________________\n",
      "\n",
      " Set: X0_YP1\n",
      "-------------------------\n",
      " Number of New Hot Pixels: 35.0\n",
      " Number of New Hot Pixels 300ms: 48.0\n",
      " Number of New Hot Pixels 1000ms: 35.0\n",
      "_________________________\n",
      "\n",
      " Set: X0_YP2\n",
      "-------------------------\n",
      " Number of New Hot Pixels: 35.0\n",
      " Number of New Hot Pixels 300ms: 50.0\n",
      " Number of New Hot Pixels 1000ms: 35.0\n",
      "_________________________\n",
      "\n",
      " Set: X0_YP3\n",
      "-------------------------\n",
      " Number of New Hot Pixels: 35.0\n",
      " Number of New Hot Pixels 300ms: 49.0\n",
      " Number of New Hot Pixels 1000ms: 35.0\n",
      "_________________________\n",
      "\n",
      " Set: XM2_Y0\n",
      "-------------------------\n",
      " Number of New Hot Pixels: 35.0\n",
      " Number of New Hot Pixels 300ms: 49.0\n",
      " Number of New Hot Pixels 1000ms: 35.0\n",
      "_________________________\n",
      "\n",
      " Set: XM2_YM1\n",
      "-------------------------\n",
      " Number of New Hot Pixels: 35.0\n",
      " Number of New Hot Pixels 300ms: 49.0\n",
      " Number of New Hot Pixels 1000ms: 35.0\n",
      "_________________________\n",
      "\n",
      " Set: XM2_YP1\n",
      "-------------------------\n",
      " Number of New Hot Pixels: 35.0\n",
      " Number of New Hot Pixels 300ms: 46.0\n",
      " Number of New Hot Pixels 1000ms: 35.0\n",
      "_________________________\n",
      "\n",
      " Set: XP2_Y0\n",
      "-------------------------\n",
      " Number of New Hot Pixels: 35.0\n",
      " Number of New Hot Pixels 300ms: 47.0\n",
      " Number of New Hot Pixels 1000ms: 35.0\n",
      "_________________________\n",
      "\n",
      " Set: XP2_YM1\n",
      "-------------------------\n",
      " Number of New Hot Pixels: 35.0\n",
      " Number of New Hot Pixels 300ms: 48.0\n",
      " Number of New Hot Pixels 1000ms: 35.0\n",
      "_________________________\n",
      "\n",
      " Set: XP2_YP1\n",
      "-------------------------\n",
      " Number of New Hot Pixels: 35.0\n",
      " Number of New Hot Pixels 300ms: 48.0\n",
      " Number of New Hot Pixels 1000ms: 35.0\n",
      "_________________________\n",
      "\n",
      " Set: XP4_Y0\n",
      "-------------------------\n",
      " Number of New Hot Pixels: 35.0\n",
      " Number of New Hot Pixels 300ms: 50.0\n",
      " Number of New Hot Pixels 1000ms: 35.0\n",
      "_________________________\n",
      "\n",
      " Set: X0_YP2_981eV\n",
      "-------------------------\n",
      " Number of New Hot Pixels: 35.0\n",
      " Number of New Hot Pixels 300ms: 47.0\n",
      " Number of New Hot Pixels 1000ms: 35.0\n",
      "_________________________\n",
      "\n",
      " Set: Combined New HotsArray\n",
      "-------------------------\n",
      " Number of New Hot Pixels: 35.0\n",
      " Number of New Hot Pixels 300ms: 47.0\n",
      " Number of New Hot Pixels 1000ms: 35.0\n",
      "_________________________\n"
     ]
    }
   ],
   "source": [
    "SetNamesList = ['X0_Y0','X0_YM1','X0_YM2','X0_YM3','X0_YP1','X0_YP2','X0_YP3','XM2_Y0','XM2_YM1','XM2_YP1','XP2_Y0','XP2_YM1','XP2_YP1','XP4_Y0']\n",
    "#Load the old hots arrays\n",
    "LoadDirectory = 'OldHotsArrays/'\n",
    "Old300msHotsArray = np.loadtxt(LoadDirectory + 'Old300msHotsArray' +'.csv', delimiter=',')\n",
    "Old1000msHotsArray = np.loadtxt(LoadDirectory + 'Old1000msHotsArray' +'.csv', delimiter=',')\n",
    "ComboOldHotsArray = np.where(Old1000msHotsArray == 1,1,Old300msHotsArray)\n",
    "\n",
    "NewComboHotsArray = np.zeros(np.shape(Old300msHotsArray)) \n",
    "\n",
    "for i in range(len(SetNamesList)):\n",
    "    \n",
    "    SetName = SetNamesList[i]\n",
    "    HotsArrayName = 'PrelimHotsArray'\n",
    "    LoadDirectory = 'SteadyStateDataSets/' + SetName + ForwardSlash \n",
    "    \n",
    "    HotsArray = np.loadtxt(LoadDirectory + HotsArrayName +'.csv', delimiter=',')\n",
    "    \n",
    "    #Combining all of the unique hotpixels found in the new dataset.\n",
    "    NewComboHotsArray = np.where(HotsArray == 1,1,NewComboHotsArray)\n",
    "    \n",
    "    CheckArray300 = np.zeros(np.shape(Old300msHotsArray))\n",
    "    CheckArray300 = np.where(Old300msHotsArray == 1,0,HotsArray)\n",
    "    CheckArray1000 = np.zeros(np.shape(Old300msHotsArray))\n",
    "    CheckArray1000 = np.where(Old1000msHotsArray == 1,0,HotsArray)\n",
    "    CheckArrayCombo = np.zeros(np.shape(Old300msHotsArray))\n",
    "    CheckArrayCombo = np.where(ComboOldHotsArray == 1,0,HotsArray)\n",
    "    \n",
    "    NewUniqueHotPixels300 = np.sum(CheckArray300)\n",
    "    NewUniqueHotPixels1000 = np.sum(CheckArray1000)\n",
    "    NewUniqueHotPixels = np.sum(CheckArrayCombo)\n",
    "    \n",
    "    print(\"_________________________\")\n",
    "    print(\"\")\n",
    "    print(\" Set: \"+ SetName)\n",
    "    print(\"-------------------------\")\n",
    "    print(\" Number of New Hot Pixels: \" + str(NewUniqueHotPixels))\n",
    "    print(\" Number of New Hot Pixels 300ms: \" + str(NewUniqueHotPixels300))\n",
    "    print(\" Number of New Hot Pixels 1000ms: \" + str(NewUniqueHotPixels1000))\n",
    "    \n",
    "\n",
    "\n",
    "SetName = 'X0_YP2_981eV'\n",
    "HotsArrayName = 'PrelimHotsArray'\n",
    "LoadDirectory = 'SteadyStateDataSets/Gain_Data/' + SetName + ForwardSlash \n",
    "    \n",
    "HotsArray = np.loadtxt(LoadDirectory + HotsArrayName +'.csv', delimiter=',')\n",
    "\n",
    "NewComboHotsArray = np.where(HotsArray == 1,1,NewComboHotsArray)\n",
    "\n",
    "CheckArray300 = np.zeros(np.shape(Old300msHotsArray))\n",
    "CheckArray300 = np.where(Old300msHotsArray == 1,0,HotsArray)\n",
    "CheckArray1000 = np.zeros(np.shape(Old300msHotsArray))\n",
    "CheckArray1000 = np.where(Old1000msHotsArray == 1,0,HotsArray)\n",
    "CheckArrayCombo = np.zeros(np.shape(Old300msHotsArray))\n",
    "CheckArrayCombo = np.where(ComboOldHotsArray == 1,0,HotsArray)\n",
    "\n",
    "NewUniqueHotPixels300 = np.sum(CheckArray300)\n",
    "NewUniqueHotPixels1000 = np.sum(CheckArray1000)\n",
    "NewUniqueHotPixels = np.sum(CheckArrayCombo)\n",
    "\n",
    "print(\"_________________________\")\n",
    "print(\"\")\n",
    "print(\" Set: \"+ SetName)\n",
    "print(\"-------------------------\")\n",
    "print(\" Number of New Hot Pixels: \" + str(NewUniqueHotPixels))\n",
    "print(\" Number of New Hot Pixels 300ms: \" + str(NewUniqueHotPixels300))\n",
    "print(\" Number of New Hot Pixels 1000ms: \" + str(NewUniqueHotPixels1000))\n",
    "\n",
    "#-------------------\n",
    "\n",
    "CheckArray300 = np.zeros(np.shape(Old300msHotsArray))\n",
    "CheckArray300 = np.where(Old300msHotsArray == 1,0,HotsArray)\n",
    "CheckArray1000 = np.zeros(np.shape(Old300msHotsArray))\n",
    "CheckArray1000 = np.where(Old1000msHotsArray == 1,0,HotsArray)\n",
    "CheckArrayCombo = np.zeros(np.shape(Old300msHotsArray))\n",
    "CheckArrayCombo = np.where(ComboOldHotsArray == 1,0,HotsArray)\n",
    "\n",
    "NewUniqueHotPixels300 = np.sum(CheckArray300)\n",
    "NewUniqueHotPixels1000 = np.sum(CheckArray1000)\n",
    "NewUniqueHotPixels = np.sum(CheckArrayCombo)\n",
    "\n",
    "print(\"_________________________\")\n",
    "print(\"\")\n",
    "print(\" Set: \"+ \"Combined New HotsArray\")\n",
    "print(\"-------------------------\")\n",
    "print(\" Number of New Hot Pixels: \" + str(NewUniqueHotPixels))\n",
    "print(\" Number of New Hot Pixels 300ms: \" + str(NewUniqueHotPixels300))\n",
    "print(\" Number of New Hot Pixels 1000ms: \" + str(NewUniqueHotPixels1000))\n",
    "print(\"_________________________\")\n",
    "\n",
    "SaveDirectory = 'SteadyStateDataSets/'\n",
    "np.savetxt(SaveDirectory + 'ComboHotsArray' +'.csv', NewComboHotsArray, delimiter=',')"
   ]
  },
  {
   "cell_type": "markdown",
   "id": "548b0921",
   "metadata": {},
   "source": [
    "This seems to indicate that the hotpixels found from the old 1000 ms darks have all but 35 of the new hotpixels and that adding the hotpixels from the set of 300ms data frames doesn't change anything.\n",
    "\n",
    "The new dark frames universially have 35 hotpixels not found in the old 1000 ms darks, and adding the hotpixels from the old 300 ms darks doesn't change anything. "
   ]
  },
  {
   "cell_type": "markdown",
   "id": "c302b001",
   "metadata": {},
   "source": [
    "Combining the ComboNewHotsoArray with the Old1000msHotsArray"
   ]
  },
  {
   "cell_type": "code",
   "execution_count": 8,
   "id": "42e6ab1b",
   "metadata": {},
   "outputs": [
    {
     "name": "stdout",
     "output_type": "stream",
     "text": [
      "_________________________\n",
      "\n",
      " Set: MasterHotsArray\n",
      "-------------------------\n",
      " Number of New Hot Pixels: 35.0\n",
      " Number of New Hot Pixels 300ms: 193.0\n",
      " Number of New Hot Pixels 1000ms: 35.0\n",
      "_________________________\n"
     ]
    }
   ],
   "source": [
    "SetNamesList = ['X0_Y0','X0_YM1','X0_YM2','X0_YM3','X0_YP1','X0_YP2','X0_YP3','XM2_Y0','XM2_YM1','XM2_YP1','XP2_Y0','XP2_YM1','XP2_YP1','XP4_Y0']\n",
    "#Load the old hots arrays\n",
    "LoadDirectory = 'OldHotsArrays/'\n",
    "Old300msHotsArray = np.loadtxt(LoadDirectory + 'Old300msHotsArray' +'.csv', delimiter=',')\n",
    "Old1000msHotsArray = np.loadtxt(LoadDirectory + 'Old1000msHotsArray' +'.csv', delimiter=',')\n",
    "ComboOldHotsArray = np.where(Old1000msHotsArray == 1,1,Old300msHotsArray)\n",
    "LoadDirectory = 'SteadyStateDataSets/'\n",
    "ComboNewHotsArray = np.loadtxt(LoadDirectory + 'ComboHotsArray' +'.csv', delimiter=',')\n",
    "\n",
    "MasterHotsArray = np.zeros(np.shape(Old300msHotsArray))\n",
    "MasterHotsArray = np.where(Old1000msHotsArray == 1,1,ComboNewHotsArray)\n",
    "\n",
    "CheckArray300 = np.zeros(np.shape(Old300msHotsArray))\n",
    "CheckArray300 = np.where(Old300msHotsArray == 1,0,MasterHotsArray)\n",
    "CheckArray1000 = np.zeros(np.shape(Old300msHotsArray))\n",
    "CheckArray1000 = np.where(Old1000msHotsArray == 1,0,MasterHotsArray)\n",
    "CheckArrayCombo = np.zeros(np.shape(Old300msHotsArray))\n",
    "CheckArrayCombo = np.where(ComboOldHotsArray == 1,0,MasterHotsArray)\n",
    "NewUniqueHotPixels300 = np.sum(CheckArray300)\n",
    "NewUniqueHotPixels1000 = np.sum(CheckArray1000)\n",
    "NewUniqueHotPixels = np.sum(CheckArrayCombo)\n",
    "\n",
    "print(\"_________________________\")\n",
    "print(\"\")\n",
    "print(\" Set: \"+ \"MasterHotsArray\")\n",
    "print(\"-------------------------\")\n",
    "print(\" Number of New Hot Pixels: \" + str(NewUniqueHotPixels))\n",
    "print(\" Number of New Hot Pixels 300ms: \" + str(NewUniqueHotPixels300))\n",
    "print(\" Number of New Hot Pixels 1000ms: \" + str(NewUniqueHotPixels1000))\n",
    "print(\"_________________________\")\n",
    "\n",
    "SaveDirectory = 'SteadyStateDataSets/'\n",
    "np.savetxt(SaveDirectory + 'MasterHotsArray' +'.csv', MasterHotsArray, delimiter=',')"
   ]
  },
  {
   "cell_type": "markdown",
   "id": "71a4980d",
   "metadata": {},
   "source": [
    "Trying to see what the hots arrays might look like if I used the HotThresh from the old datasets."
   ]
  },
  {
   "cell_type": "code",
   "execution_count": 9,
   "id": "be62a404",
   "metadata": {},
   "outputs": [
    {
     "name": "stdout",
     "output_type": "stream",
     "text": [
      "_________________________\n",
      "\n",
      " Set: MasterHotsArray\n",
      "-------------------------\n",
      " Hot Pixel Count: 760.0\n",
      " Hot Pixel Fraction: 0.0358%\n",
      " Number of New Hot Pixels: 35.0\n",
      " Number of New Hot Pixels 300ms: 193.0\n",
      " Number of New Hot Pixels 1000ms: 35.0\n",
      "_________________________\n"
     ]
    }
   ],
   "source": [
    "HotCount = np.sum(MasterHotsArray)\n",
    "HotFrac = HotCount/(DimX*DimY)\n",
    "\n",
    "print(\"_________________________\")\n",
    "print(\"\")\n",
    "print(\" Set: \"+ \"MasterHotsArray\")\n",
    "print(\"-------------------------\")\n",
    "print(\" Hot Pixel Count: \" + str(HotCount))\n",
    "print(\" Hot Pixel Fraction: \" + str(round(HotFrac*100,4))+\"%\")\n",
    "print(\" Number of New Hot Pixels: \" + str(NewUniqueHotPixels))\n",
    "print(\" Number of New Hot Pixels 300ms: \" + str(NewUniqueHotPixels300))\n",
    "print(\" Number of New Hot Pixels 1000ms: \" + str(NewUniqueHotPixels1000))\n",
    "print(\"_________________________\")\n",
    "\n"
   ]
  },
  {
   "cell_type": "markdown",
   "id": "154a50dc",
   "metadata": {},
   "source": [
    "### Making Master Dark Frames Now That I Have a Master Hots Array"
   ]
  },
  {
   "cell_type": "code",
   "execution_count": 15,
   "id": "12f6db90",
   "metadata": {},
   "outputs": [],
   "source": [
    "def ReturnMeanDarkAndStats(datadirectory,filepattern,DimX,DimY,HotsArray):\n",
    "    #DimY,DimX the dimensions of the images eg for 1080x1920 DimY=1080, DimX=1920\n",
    "    \n",
    "    #This Currently doesn't make a median dark frame because I havent figured out a way of doing that \n",
    "    #without making this code take roughly one-million times longer to run.\n",
    "    \n",
    "    #FileNameList = MakeFileNamesList(datadirectory,filepattern)\n",
    "    FileNameList = glob2.glob(datadirectory + filepattern)\n",
    "    ImagesList = ut.MakeImagesList(FileNameList,1)\n",
    "\n",
    "    NumberOfFrames = len(ImagesList)\n",
    "    SumDark = np.zeros((DimY,DimX))\n",
    "    SumDarkSquared = np.zeros((DimY,DimX))\n",
    "    SumExposureTime = 0\n",
    "    \n",
    "    ZerosArray = np.zeros((DimY,DimX))\n",
    "    \n",
    "    FrameMeans = []\n",
    "    FrameMedians = []\n",
    "    FrameStds = []\n",
    "    \n",
    "    #making master dark frame by finding the mean\n",
    "    for i in tqdm(range(len(ImagesList))):\n",
    "    #for all images in list of images\n",
    "        \n",
    "        #For Mean and Std Dark Frames\n",
    "        image_and_metadata = ImagesList[i]\n",
    "        image_data = image_and_metadata[0]\n",
    "        SumDark = SumDark + image_data\n",
    "        SumDarkSquared = SumDarkSquared + image_data**2\n",
    "        \n",
    "        SumExposureTime = SumExposureTime + float(image_and_metadata[1])\n",
    "        \n",
    "        FlatImageNoHots = []\n",
    "        for x in range(DimX):\n",
    "            for y in range(DimY):\n",
    "                if HotsArray[y,x] != 1:\n",
    "                    FlatImageNoHots.append(image_data[y,x])\n",
    "        \n",
    "        FlatImageNoHots = np.array(FlatImageNoHots)\n",
    "        \n",
    "        FrameMean = np.mean(FlatImageNoHots)\n",
    "        FrameMedian = np.median(FlatImageNoHots)\n",
    "        FrameStd = np.std(FlatImageNoHots)\n",
    "        \n",
    "        FrameMeans.append(FrameMean)\n",
    "        FrameMedians.append(FrameMedian)\n",
    "        FrameStds.append(FrameStd)\n",
    "        \n",
    "    FrameMeans = np.array(FrameMeans)\n",
    "    FrameMedians = np.array(FrameMedians)\n",
    "    FrameStds = np.array(FrameStds)\n",
    "        \n",
    "    MeanDarkFrame = SumDark/len(ImagesList)\n",
    "    StdDarkFrame = np.sqrt((SumDarkSquared/len(ImagesList)) - MeanDarkFrame**2)\n",
    "    \n",
    "    MeanExposureTime = SumExposureTime/len(ImagesList)\n",
    "    \n",
    "    return MeanDarkFrame, FrameMeans, FrameMedians, FrameStds"
   ]
  },
  {
   "cell_type": "code",
   "execution_count": 16,
   "id": "bfc4adf4",
   "metadata": {},
   "outputs": [
    {
     "data": {
      "application/vnd.jupyter.widget-view+json": {
       "model_id": "d1f4b8c6967c473c89224787ffe93b54",
       "version_major": 2,
       "version_minor": 0
      },
      "text/plain": [
       "  0%|          | 0/246 [00:00<?, ?it/s]"
      ]
     },
     "metadata": {},
     "output_type": "display_data"
    },
    {
     "name": "stderr",
     "output_type": "stream",
     "text": [
      "C:\\Users\\Colin Packard\\AppData\\Local\\Temp\\ipykernel_7808\\3797429830.py:55: RuntimeWarning: invalid value encountered in sqrt\n",
      "  StdDarkFrame = np.sqrt((SumDarkSquared/len(ImagesList)) - MeanDarkFrame**2)\n"
     ]
    },
    {
     "data": {
      "application/vnd.jupyter.widget-view+json": {
       "model_id": "e2f9403cfe57475e90f574b4a09a87c5",
       "version_major": 2,
       "version_minor": 0
      },
      "text/plain": [
       "  0%|          | 0/36 [00:00<?, ?it/s]"
      ]
     },
     "metadata": {},
     "output_type": "display_data"
    },
    {
     "data": {
      "application/vnd.jupyter.widget-view+json": {
       "model_id": "41106ac5c6804ede9c2f08c88ebe7fea",
       "version_major": 2,
       "version_minor": 0
      },
      "text/plain": [
       "  0%|          | 0/48 [00:00<?, ?it/s]"
      ]
     },
     "metadata": {},
     "output_type": "display_data"
    },
    {
     "data": {
      "application/vnd.jupyter.widget-view+json": {
       "model_id": "7e7b4c627e0a43279dab3846a27c5978",
       "version_major": 2,
       "version_minor": 0
      },
      "text/plain": [
       "  0%|          | 0/50 [00:00<?, ?it/s]"
      ]
     },
     "metadata": {},
     "output_type": "display_data"
    },
    {
     "data": {
      "application/vnd.jupyter.widget-view+json": {
       "model_id": "8c164b99110449d28ba2d6e833d3bdfc",
       "version_major": 2,
       "version_minor": 0
      },
      "text/plain": [
       "  0%|          | 0/49 [00:00<?, ?it/s]"
      ]
     },
     "metadata": {},
     "output_type": "display_data"
    },
    {
     "data": {
      "application/vnd.jupyter.widget-view+json": {
       "model_id": "ca3e7ffcae334f55a4b8af0a6f670389",
       "version_major": 2,
       "version_minor": 0
      },
      "text/plain": [
       "  0%|          | 0/49 [00:00<?, ?it/s]"
      ]
     },
     "metadata": {},
     "output_type": "display_data"
    },
    {
     "data": {
      "application/vnd.jupyter.widget-view+json": {
       "model_id": "3881956665a244cf950009bd030d803e",
       "version_major": 2,
       "version_minor": 0
      },
      "text/plain": [
       "  0%|          | 0/49 [00:00<?, ?it/s]"
      ]
     },
     "metadata": {},
     "output_type": "display_data"
    },
    {
     "data": {
      "application/vnd.jupyter.widget-view+json": {
       "model_id": "eb9f737fbab64fd8a3ea59042f9183a8",
       "version_major": 2,
       "version_minor": 0
      },
      "text/plain": [
       "  0%|          | 0/36 [00:00<?, ?it/s]"
      ]
     },
     "metadata": {},
     "output_type": "display_data"
    },
    {
     "data": {
      "application/vnd.jupyter.widget-view+json": {
       "model_id": "65e5edbfffdb4ee6b52eddb16e42dc3e",
       "version_major": 2,
       "version_minor": 0
      },
      "text/plain": [
       "  0%|          | 0/48 [00:00<?, ?it/s]"
      ]
     },
     "metadata": {},
     "output_type": "display_data"
    },
    {
     "data": {
      "application/vnd.jupyter.widget-view+json": {
       "model_id": "cd09991d08b14fcea10792b0530600ea",
       "version_major": 2,
       "version_minor": 0
      },
      "text/plain": [
       "  0%|          | 0/51 [00:00<?, ?it/s]"
      ]
     },
     "metadata": {},
     "output_type": "display_data"
    },
    {
     "data": {
      "application/vnd.jupyter.widget-view+json": {
       "model_id": "9eb6557750e545dca0bb5e518e0aa9c4",
       "version_major": 2,
       "version_minor": 0
      },
      "text/plain": [
       "  0%|          | 0/40 [00:00<?, ?it/s]"
      ]
     },
     "metadata": {},
     "output_type": "display_data"
    },
    {
     "data": {
      "application/vnd.jupyter.widget-view+json": {
       "model_id": "b422399511b24c7ba5aa70644a2999e4",
       "version_major": 2,
       "version_minor": 0
      },
      "text/plain": [
       "  0%|          | 0/49 [00:00<?, ?it/s]"
      ]
     },
     "metadata": {},
     "output_type": "display_data"
    },
    {
     "data": {
      "application/vnd.jupyter.widget-view+json": {
       "model_id": "6131069244fc4f4495b7de1e63ce0311",
       "version_major": 2,
       "version_minor": 0
      },
      "text/plain": [
       "  0%|          | 0/49 [00:00<?, ?it/s]"
      ]
     },
     "metadata": {},
     "output_type": "display_data"
    },
    {
     "data": {
      "application/vnd.jupyter.widget-view+json": {
       "model_id": "fd0f2954529648c490bdd60f6c4541f7",
       "version_major": 2,
       "version_minor": 0
      },
      "text/plain": [
       "  0%|          | 0/48 [00:00<?, ?it/s]"
      ]
     },
     "metadata": {},
     "output_type": "display_data"
    },
    {
     "data": {
      "application/vnd.jupyter.widget-view+json": {
       "model_id": "1a71ea960895495690df9a255edac626",
       "version_major": 2,
       "version_minor": 0
      },
      "text/plain": [
       "  0%|          | 0/44 [00:00<?, ?it/s]"
      ]
     },
     "metadata": {},
     "output_type": "display_data"
    },
    {
     "name": "stdout",
     "output_type": "stream",
     "text": [
      "_________________________\n",
      "\n",
      " Set: X0_Y0\n",
      "-------------------------\n",
      " Mean Frame Mean: 3.55\n",
      " Mean Frame Median: 4.0\n",
      " Mean Frame Std: 1.24\n",
      "_________________________\n",
      "\n",
      " Set: X0_YM1\n",
      "-------------------------\n",
      " Mean Frame Mean: 3.55\n",
      " Mean Frame Median: 4.0\n",
      " Mean Frame Std: 1.24\n",
      "_________________________\n",
      "\n",
      " Set: X0_YM2\n",
      "-------------------------\n",
      " Mean Frame Mean: 3.52\n",
      " Mean Frame Median: 4.0\n",
      " Mean Frame Std: 1.25\n",
      "_________________________\n",
      "\n",
      " Set: X0_YM3\n",
      "-------------------------\n",
      " Mean Frame Mean: 3.54\n",
      " Mean Frame Median: 4.0\n",
      " Mean Frame Std: 1.24\n",
      "_________________________\n",
      "\n",
      " Set: X0_YP1\n",
      "-------------------------\n",
      " Mean Frame Mean: 3.55\n",
      " Mean Frame Median: 4.0\n",
      " Mean Frame Std: 1.24\n",
      "_________________________\n",
      "\n",
      " Set: X0_YP2\n",
      "-------------------------\n",
      " Mean Frame Mean: 3.52\n",
      " Mean Frame Median: 4.0\n",
      " Mean Frame Std: 1.25\n",
      "_________________________\n",
      "\n",
      " Set: X0_YP3\n",
      "-------------------------\n",
      " Mean Frame Mean: 3.54\n",
      " Mean Frame Median: 4.0\n",
      " Mean Frame Std: 1.24\n",
      "_________________________\n",
      "\n",
      " Set: XM2_Y0\n",
      "-------------------------\n",
      " Mean Frame Mean: 4.57\n",
      " Mean Frame Median: 5.0\n",
      " Mean Frame Std: 1.18\n",
      "_________________________\n",
      "\n",
      " Set: XM2_YM1\n",
      "-------------------------\n",
      " Mean Frame Mean: 3.53\n",
      " Mean Frame Median: 4.0\n",
      " Mean Frame Std: 1.25\n",
      "_________________________\n",
      "\n",
      " Set: XM2_YP1\n",
      "-------------------------\n",
      " Mean Frame Mean: 3.54\n",
      " Mean Frame Median: 4.0\n",
      " Mean Frame Std: 1.24\n",
      "_________________________\n",
      "\n",
      " Set: XP2_Y0\n",
      "-------------------------\n",
      " Mean Frame Mean: 3.54\n",
      " Mean Frame Median: 4.0\n",
      " Mean Frame Std: 1.25\n",
      "_________________________\n",
      "\n",
      " Set: XP2_YM1\n",
      "-------------------------\n",
      " Mean Frame Mean: 3.54\n",
      " Mean Frame Median: 4.0\n",
      " Mean Frame Std: 1.24\n",
      "_________________________\n",
      "\n",
      " Set: XP2_YP1\n",
      "-------------------------\n",
      " Mean Frame Mean: 3.54\n",
      " Mean Frame Median: 4.0\n",
      " Mean Frame Std: 1.24\n",
      "_________________________\n",
      "\n",
      " Set: XP4_Y0\n",
      "-------------------------\n",
      " Mean Frame Mean: 3.54\n",
      " Mean Frame Median: 4.0\n",
      " Mean Frame Std: 1.25\n",
      "_________________________\n",
      "\n",
      " Set: X0_YP2_981eV\n",
      "-------------------------\n",
      " Mean Frame Mean: 3.51\n",
      " Mean Frame Median: 4.0\n",
      " Mean Frame Std: 1.25\n"
     ]
    }
   ],
   "source": [
    "SetNamesList = ['X0_Y0','X0_YM1','X0_YM2','X0_YM3','X0_YP1','X0_YP2','X0_YP3','XM2_Y0','XM2_YM1','XM2_YP1','XP2_Y0','XP2_YM1','XP2_YP1','XP4_Y0']\n",
    "DarkFrameName = 'MeanCS_Dark'\n",
    "HotsArrayName = 'MasterHotsArray'\n",
    "DimY = 1096\n",
    "DimX = 1936\n",
    "\n",
    "HotsDirectory = 'SteadyStateDataSets/'\n",
    "MasterHotsArray = np.loadtxt(HotsDirectory + HotsArrayName + '.csv', delimiter=',')\n",
    "\n",
    "ComboSetNamesList = []\n",
    "\n",
    "FrameMeansList = []\n",
    "FrameMediansList = []\n",
    "FrameStdsList = []\n",
    "\n",
    "for i in range(len(SetNamesList)):\n",
    "    SetName = SetNamesList[i]\n",
    "    ComboSetNamesList.append(SetName)\n",
    "    \n",
    "    #OpenDirectory\n",
    "    DataDirectory = 'SteadyStateDataSets/' + SetName + '\\CS_Darks/'\n",
    "    filepatternOpen = '*.FTS'\n",
    "    \n",
    "    #SaveDirectory\n",
    "    SaveDirectory = 'SteadyStateDataSets/' + SetName + ForwardSlash \n",
    "\n",
    "    MeanDarkFrame, FrameMeans, FrameMedians, FrameStds = ReturnMeanDarkAndStats(DataDirectory,filepatternOpen,DimX,DimY,MasterHotsArray)\n",
    "    \n",
    "    FrameMeansList.append(FrameMeans)\n",
    "    FrameMediansList.append(FrameMedians)\n",
    "    FrameStdsList.append(FrameStds)\n",
    "    \n",
    "    np.savetxt(SaveDirectory + DarkFrameName +'.csv', MeanDarkFrame, delimiter=',')\n",
    "    \n",
    "    \n",
    "#OpenDirectory\n",
    "SetName = 'X0_YP2_981eV'\n",
    "ComboSetNamesList.append(SetName)\n",
    "DataDirectory = 'SteadyStateDataSets/Gain_Data/X0_YP2_981eV' + '\\CS_Darks/'\n",
    "filepatternOpen = '*.FTS'\n",
    "#SaveDirectory\n",
    "SaveDirectory = 'SteadyStateDataSets/Gain_Data/X0_YP2_981eV/'\n",
    "\n",
    "MeanDarkFrame, FrameMeans, FrameMedians, FrameStds = ReturnMeanDarkAndStats(DataDirectory,filepatternOpen,DimX,DimY,MasterHotsArray)\n",
    "\n",
    "FrameMeansList.append(FrameMeans)\n",
    "FrameMediansList.append(FrameMedians)\n",
    "FrameStdsList.append(FrameStds)\n",
    "\n",
    "np.savetxt(SaveDirectory + DarkFrameName +'.csv', MeanDarkFrame, delimiter=',')\n",
    "\n",
    "for i in range(len(ComboSetNamesList)):\n",
    "    SetName = ComboSetNamesList[i]\n",
    "    MeanFrameMean = np.mean(FrameMeansList[i])\n",
    "    MeanFrameMedian = np.mean(FrameMediansList[i])\n",
    "    MeanFrameStd = np.mean(FrameStdsList[i])\n",
    "    print(\"_________________________\")\n",
    "    print(\"\")\n",
    "    print(\" Set: \"+ SetName)\n",
    "    print(\"-------------------------\")\n",
    "    print(\" Mean Frame Mean: \" + str(round(MeanFrameMean,2)))\n",
    "    print(\" Mean Frame Median: \" + str(round(MeanFrameMedian,2)))\n",
    "    print(\" Mean Frame Std: \" + str(round(MeanFrameStd,2)))"
   ]
  },
  {
   "cell_type": "code",
   "execution_count": 52,
   "id": "c44f70d3",
   "metadata": {},
   "outputs": [
    {
     "name": "stdout",
     "output_type": "stream",
     "text": [
      "_________________________\n",
      "\n",
      " Set: X0_Y0 (1000 ms CS Darks)\n",
      "-------------------------\n",
      " Hot Pixel Count: 270.0\n",
      " Hot Pixel Fraction: 0.0127%\n",
      " Mean Frame Median: 4.0\n",
      " Mean Frame Std: 3.1\n",
      " HotThresh: 19.51359865976557\n",
      "_________________________\n",
      "\n",
      " Set: OldCS1000msDark\n",
      "-------------------------\n",
      " Hot Pixel Count: 725.0\n",
      " Hot Pixel Fraction: 0.0342%\n",
      " Mean Frame Median: 3.01\n",
      " Mean Frame Std: 1.46\n",
      " HotThresh: 10.304468969727946\n",
      "_________________________\n",
      "\n",
      " Set: OldCS300msDark\n",
      "-------------------------\n",
      " Hot Pixel Count: 1759.0\n",
      " Hot Pixel Fraction: 0.0829%\n",
      " Mean Frame Median: 4.0\n",
      " Mean Frame Std: 1.14\n",
      " HotThresh: 9.712012184264198\n"
     ]
    }
   ],
   "source": [
    "hotsig = 5.0\n",
    "#For New X0_Y0 1000ms Darks\n",
    "i=0\n",
    "SetName = ComboSetNamesList[i]\n",
    "MeanFrameMedian = np.mean(FrameMediansList[i])\n",
    "MeanFrameStd = np.mean(FrameStdsList[i])\n",
    "\n",
    "X0_Y0_HotThresh = MeanFrameMedian + MeanFrameStd*hotsig\n",
    "\n",
    "print(\"_________________________\")\n",
    "print(\"\")\n",
    "print(\" Set: \"+ SetName + \" (1000 ms CS Darks)\")\n",
    "print(\"-------------------------\")\n",
    "print(\" Hot Pixel Count: \" + str(HotCount[i]))\n",
    "print(\" Hot Pixel Fraction: \" + str(round(HotFrac[i]*100,4))+\"%\")\n",
    "print(\" Mean Frame Median: \" + str(round(MeanFrameMedian,2)))\n",
    "print(\" Mean Frame Std: \" + str(round(MeanFrameStd,2)))\n",
    "print(\" HotThresh: \" + str(X0_Y0_HotThresh))\n",
    "\n",
    "#For Old 1000ms Darks\n",
    "i=len(ComboSetNamesList)-1\n",
    "SetName = ComboSetNamesList[i]\n",
    "MeanFrameMedian = np.mean(FrameMediansList[i])\n",
    "MeanFrameStd = np.mean(FrameStdsList[i])\n",
    "\n",
    "OldHotThresh1000 = MeanFrameMedian + MeanFrameStd*hotsig\n",
    "\n",
    "print(\"_________________________\")\n",
    "print(\"\")\n",
    "print(\" Set: \"+ SetName)\n",
    "print(\"-------------------------\")\n",
    "print(\" Hot Pixel Count: \" + str(HotCount[i]))\n",
    "print(\" Hot Pixel Fraction: \" + str(round(HotFrac[i]*100,4))+\"%\")\n",
    "print(\" Mean Frame Median: \" + str(round(MeanFrameMedian,2)))\n",
    "print(\" Mean Frame Std: \" + str(round(MeanFrameStd,2)))\n",
    "print(\" HotThresh: \" + str(OldHotThresh1000))\n",
    "\n",
    "#For Old 300ms Darks\n",
    "i=len(ComboSetNamesList)-2\n",
    "SetName = ComboSetNamesList[i]\n",
    "MeanFrameMedian = np.mean(FrameMediansList[i])\n",
    "MeanFrameStd = np.mean(FrameStdsList[i])\n",
    "\n",
    "OldHotThresh300 = MeanFrameMedian + MeanFrameStd*hotsig\n",
    "\n",
    "print(\"_________________________\")\n",
    "print(\"\")\n",
    "print(\" Set: \"+ SetName)\n",
    "print(\"-------------------------\")\n",
    "print(\" Hot Pixel Count: \" + str(HotCount[i]))\n",
    "print(\" Hot Pixel Fraction: \" + str(round(HotFrac[i]*100,4))+\"%\")\n",
    "print(\" Mean Frame Median: \" + str(round(MeanFrameMedian,2)))\n",
    "print(\" Mean Frame Std: \" + str(round(MeanFrameStd,2)))\n",
    "print(\" HotThresh: \" + str(OldHotThresh300))\n"
   ]
  },
  {
   "cell_type": "code",
   "execution_count": 46,
   "id": "c77a7d3b",
   "metadata": {},
   "outputs": [],
   "source": [
    "def ReturnMasterDarkAndHotsArrayThresh(datadirectory,filepattern,DimX,DimY,HotThresh,hotfrac):\n",
    "    #DimY,DimX the dimensions of the images eg for 1080x1920 DimY=1080, DimX=1920\n",
    "    \n",
    "    #hotsig: Number of stdevs above a frame's median a pixel must be to be considered hot.\n",
    "    #hotfrac: The fraction of the frames in a given set a certain pixel must be hot in order to be recorded as hot in the HotsArray\n",
    "    \n",
    "    #This Currently doesn't make a median dark frame because I havent figured out a way of doing that \n",
    "    #without making this code take roughly one-million times longer to run.\n",
    "    \n",
    "    #FileNameList = MakeFileNamesList(datadirectory,filepattern)\n",
    "    FileNameList = glob2.glob(datadirectory + filepattern)\n",
    "    ImagesList = ut.MakeImagesList(FileNameList,1)\n",
    "\n",
    "    NumberOfFrames = len(ImagesList)\n",
    "    SumDark = np.zeros((DimY,DimX))\n",
    "    SumDarkSquared = np.zeros((DimY,DimX))\n",
    "    SumExposureTime = 0\n",
    "    \n",
    "    HotCounterArray = np.zeros((DimY,DimX))\n",
    "    ZerosArray = np.zeros((DimY,DimX))\n",
    "    #SumDark = np.zeros((1080,1920))\n",
    "    \n",
    "    \n",
    "    #making master dark frame by finding the mean\n",
    "    for i in tqdm(range(len(ImagesList))):\n",
    "    #for all images in list of images\n",
    "        \n",
    "        #For Mean and Std Dark Frames\n",
    "        image_and_metadata = ImagesList[i]\n",
    "        image_data = image_and_metadata[0]\n",
    "        SumDark = SumDark + image_data\n",
    "        SumDarkSquared = SumDarkSquared + image_data**2\n",
    "        \n",
    "        SumExposureTime = SumExposureTime + float(image_and_metadata[1])\n",
    "        \n",
    "        #For finding Hot Pixels\n",
    "        FrameMedian = np.median(image_data)\n",
    "        FrameStd = np.std(image_data)\n",
    "        \n",
    "        #hotsig is the number of stdevs above median a pixel must be to be considered hot.\n",
    "        #HotThresh = FrameMedian + hotsig*FrameStd\n",
    "        HotsToCount = np.where(image_data > HotThresh,1,ZerosArray)\n",
    "        \n",
    "        HotCounterArray = HotCounterArray + HotsToCount\n",
    "\n",
    "\n",
    "    MeanDarkFrame = SumDark/len(ImagesList)\n",
    "    StdDarkFrame = np.sqrt((SumDarkSquared/len(ImagesList)) - MeanDarkFrame**2)\n",
    "    HotsArray = np.where((HotCounterArray/len(ImagesList)) > hotfrac,1,ZerosArray)\n",
    "    \n",
    "    MeanExposureTime = SumExposureTime/len(ImagesList)\n",
    "    \n",
    "    return MeanDarkFrame, HotsArray\n",
    "\n",
    "def ReturnMasterDarkAndHotsArrayExtraThresh(datadirectory,filepattern,DimX,DimY,HotThresh,hotfrac):\n",
    "    #DimY,DimX the dimensions of the images eg for 1080x1920 DimY=1080, DimX=1920\n",
    "    \n",
    "    #This Currently doesn't make a median dark frame because I havent figured out a way of doing that \n",
    "    #without making this code take roughly one-million times longer to run.\n",
    "    \n",
    "    #FileNameList = MakeFileNamesList(datadirectory,filepattern)\n",
    "    FileNameList = glob2.glob(datadirectory + filepattern)\n",
    "    ImagesList = ut.MakeImagesList(FileNameList,1)\n",
    "\n",
    "    NumberOfFrames = len(ImagesList)\n",
    "    SumDark = np.zeros((DimY,DimX))\n",
    "    SumDarkSquared = np.zeros((DimY,DimX))\n",
    "    SumExposureTime = 0\n",
    "    \n",
    "    HotCounterArray = np.zeros((DimY,DimX))\n",
    "    ZerosArray = np.zeros((DimY,DimX))\n",
    "    #SumDark = np.zeros((1080,1920))\n",
    "    \n",
    "    FrameMedians = []\n",
    "    FrameStds = []\n",
    "    \n",
    "    #making master dark frame by finding the mean\n",
    "    for i in tqdm(range(len(ImagesList))):\n",
    "    #for all images in list of images\n",
    "        \n",
    "        #For Mean and Std Dark Frames\n",
    "        image_and_metadata = ImagesList[i]\n",
    "        image_data = image_and_metadata[0]\n",
    "        SumDark = SumDark + image_data\n",
    "        SumDarkSquared = SumDarkSquared + image_data**2\n",
    "        \n",
    "        SumExposureTime = SumExposureTime + float(image_and_metadata[1])\n",
    "        \n",
    "        #For finding Hot Pixels\n",
    "        FrameMedian = np.median(image_data)\n",
    "        FrameStd = np.std(image_data)\n",
    "        \n",
    "        FrameMedians.append(FrameMedian)\n",
    "        FrameStds.append(FrameStd)\n",
    "        \n",
    "        #hotsig is the number of stdevs above median a pixel must be to be considered hot.\n",
    "        #HotThresh = FrameMedian + hotsig*FrameStd\n",
    "        HotsToCount = np.where(image_data > HotThresh,1,ZerosArray)\n",
    "        \n",
    "        HotCounterArray = HotCounterArray + HotsToCount\n",
    "\n",
    "\n",
    "    MeanDarkFrame = SumDark/len(ImagesList)\n",
    "    StdDarkFrame = np.sqrt((SumDarkSquared/len(ImagesList)) - MeanDarkFrame**2)\n",
    "    HotsArray = np.where((HotCounterArray/len(ImagesList)) > hotfrac,1,ZerosArray)\n",
    "    \n",
    "    MeanExposureTime = SumExposureTime/len(ImagesList)\n",
    "    \n",
    "    FrameMedians = np.array(FrameMedians)\n",
    "    FrameStds = np.array(FrameStds)\n",
    "    \n",
    "    return MeanDarkFrame, HotsArray, FrameMedians, FrameStds"
   ]
  },
  {
   "cell_type": "code",
   "execution_count": 53,
   "id": "89004768",
   "metadata": {},
   "outputs": [
    {
     "data": {
      "application/vnd.jupyter.widget-view+json": {
       "model_id": "6685ab08ac674a0f86a46370542e414a",
       "version_major": 2,
       "version_minor": 0
      },
      "text/plain": [
       "  0%|          | 0/246 [00:00<?, ?it/s]"
      ]
     },
     "metadata": {},
     "output_type": "display_data"
    },
    {
     "name": "stderr",
     "output_type": "stream",
     "text": [
      "C:\\Users\\Colin Packard\\AppData\\Local\\Temp\\ipykernel_12804\\4245751307.py:104: RuntimeWarning: invalid value encountered in sqrt\n",
      "  StdDarkFrame = np.sqrt((SumDarkSquared/len(ImagesList)) - MeanDarkFrame**2)\n"
     ]
    },
    {
     "data": {
      "application/vnd.jupyter.widget-view+json": {
       "model_id": "128527e581e944faa066d9c9b7087658",
       "version_major": 2,
       "version_minor": 0
      },
      "text/plain": [
       "  0%|          | 0/36 [00:00<?, ?it/s]"
      ]
     },
     "metadata": {},
     "output_type": "display_data"
    },
    {
     "data": {
      "application/vnd.jupyter.widget-view+json": {
       "model_id": "030cb37057eb4359aed2e994e494eb39",
       "version_major": 2,
       "version_minor": 0
      },
      "text/plain": [
       "  0%|          | 0/48 [00:00<?, ?it/s]"
      ]
     },
     "metadata": {},
     "output_type": "display_data"
    },
    {
     "data": {
      "application/vnd.jupyter.widget-view+json": {
       "model_id": "39a5b909d2fb4b8a867f50fc8b4065ba",
       "version_major": 2,
       "version_minor": 0
      },
      "text/plain": [
       "  0%|          | 0/50 [00:00<?, ?it/s]"
      ]
     },
     "metadata": {},
     "output_type": "display_data"
    },
    {
     "data": {
      "application/vnd.jupyter.widget-view+json": {
       "model_id": "9af83588adfb468baba8d52790bd383a",
       "version_major": 2,
       "version_minor": 0
      },
      "text/plain": [
       "  0%|          | 0/49 [00:00<?, ?it/s]"
      ]
     },
     "metadata": {},
     "output_type": "display_data"
    },
    {
     "data": {
      "application/vnd.jupyter.widget-view+json": {
       "model_id": "6c0d205f90ea4216af1379839f406729",
       "version_major": 2,
       "version_minor": 0
      },
      "text/plain": [
       "  0%|          | 0/49 [00:00<?, ?it/s]"
      ]
     },
     "metadata": {},
     "output_type": "display_data"
    },
    {
     "data": {
      "application/vnd.jupyter.widget-view+json": {
       "model_id": "abc460c286aa4df7888c5e497a8ac407",
       "version_major": 2,
       "version_minor": 0
      },
      "text/plain": [
       "  0%|          | 0/49 [00:00<?, ?it/s]"
      ]
     },
     "metadata": {},
     "output_type": "display_data"
    },
    {
     "data": {
      "application/vnd.jupyter.widget-view+json": {
       "model_id": "b34a0bebf13b4c2ebc7642688e9c7afe",
       "version_major": 2,
       "version_minor": 0
      },
      "text/plain": [
       "  0%|          | 0/36 [00:00<?, ?it/s]"
      ]
     },
     "metadata": {},
     "output_type": "display_data"
    },
    {
     "data": {
      "application/vnd.jupyter.widget-view+json": {
       "model_id": "f7c639b59d3243fb839476b246f4eb2a",
       "version_major": 2,
       "version_minor": 0
      },
      "text/plain": [
       "  0%|          | 0/48 [00:00<?, ?it/s]"
      ]
     },
     "metadata": {},
     "output_type": "display_data"
    },
    {
     "data": {
      "application/vnd.jupyter.widget-view+json": {
       "model_id": "6425ad5a37614e10bee0d89eaf5e30ae",
       "version_major": 2,
       "version_minor": 0
      },
      "text/plain": [
       "  0%|          | 0/51 [00:00<?, ?it/s]"
      ]
     },
     "metadata": {},
     "output_type": "display_data"
    },
    {
     "data": {
      "application/vnd.jupyter.widget-view+json": {
       "model_id": "394c85be4eac479d94fe50e2cfb1f6ea",
       "version_major": 2,
       "version_minor": 0
      },
      "text/plain": [
       "  0%|          | 0/40 [00:00<?, ?it/s]"
      ]
     },
     "metadata": {},
     "output_type": "display_data"
    },
    {
     "data": {
      "application/vnd.jupyter.widget-view+json": {
       "model_id": "5898bdb1af8f4945b946c7866a2a47c8",
       "version_major": 2,
       "version_minor": 0
      },
      "text/plain": [
       "  0%|          | 0/49 [00:00<?, ?it/s]"
      ]
     },
     "metadata": {},
     "output_type": "display_data"
    },
    {
     "data": {
      "application/vnd.jupyter.widget-view+json": {
       "model_id": "cd7fd426e79e47c7baa440da85472e00",
       "version_major": 2,
       "version_minor": 0
      },
      "text/plain": [
       "  0%|          | 0/49 [00:00<?, ?it/s]"
      ]
     },
     "metadata": {},
     "output_type": "display_data"
    },
    {
     "data": {
      "application/vnd.jupyter.widget-view+json": {
       "model_id": "294bcb7692c345a38be9e1dcbbc1f0e3",
       "version_major": 2,
       "version_minor": 0
      },
      "text/plain": [
       "  0%|          | 0/48 [00:00<?, ?it/s]"
      ]
     },
     "metadata": {},
     "output_type": "display_data"
    },
    {
     "data": {
      "application/vnd.jupyter.widget-view+json": {
       "model_id": "2b7fca10c9cc412bb4a67a04fab43891",
       "version_major": 2,
       "version_minor": 0
      },
      "text/plain": [
       "  0%|          | 0/99 [00:00<?, ?it/s]"
      ]
     },
     "metadata": {},
     "output_type": "display_data"
    },
    {
     "data": {
      "application/vnd.jupyter.widget-view+json": {
       "model_id": "1be5a4b26d954ba6afb1e139d78c94d5",
       "version_major": 2,
       "version_minor": 0
      },
      "text/plain": [
       "  0%|          | 0/99 [00:00<?, ?it/s]"
      ]
     },
     "metadata": {},
     "output_type": "display_data"
    },
    {
     "name": "stdout",
     "output_type": "stream",
     "text": [
      "_________________________\n",
      "\n",
      " Set: X0_Y0\n",
      "-------------------------\n",
      " Hot Pixel Count (HotThresh = 9.71): 1807.0\n",
      " Hot Pixel Fraction (HotThresh = 9.71): 0.0852%\n",
      " Mean Frame Median: 4.0\n",
      " Mean Frame Std: 3.1\n",
      " Usual HotThresh: 15.513598659765568\n",
      "_________________________\n",
      "\n",
      " Set: X0_YM1\n",
      "-------------------------\n",
      " Hot Pixel Count (HotThresh = 9.71): 2101.0\n",
      " Hot Pixel Fraction (HotThresh = 9.71): 0.099%\n",
      " Mean Frame Median: 4.0\n",
      " Mean Frame Std: 3.07\n",
      " Usual HotThresh: 15.334565014563779\n",
      "_________________________\n",
      "\n",
      " Set: X0_YM2\n",
      "-------------------------\n",
      " Hot Pixel Count (HotThresh = 9.71): 2235.0\n",
      " Hot Pixel Fraction (HotThresh = 9.71): 0.1053%\n",
      " Mean Frame Median: 4.0\n",
      " Mean Frame Std: 3.12\n",
      " Usual HotThresh: 15.583176452740013\n",
      "_________________________\n",
      "\n",
      " Set: X0_YM3\n",
      "-------------------------\n",
      " Hot Pixel Count (HotThresh = 9.71): 1762.0\n",
      " Hot Pixel Fraction (HotThresh = 9.71): 0.083%\n",
      " Mean Frame Median: 4.0\n",
      " Mean Frame Std: 3.11\n",
      " Usual HotThresh: 15.548800430783757\n",
      "_________________________\n",
      "\n",
      " Set: X0_YP1\n",
      "-------------------------\n",
      " Hot Pixel Count (HotThresh = 9.71): 2275.0\n",
      " Hot Pixel Fraction (HotThresh = 9.71): 0.1072%\n",
      " Mean Frame Median: 4.0\n",
      " Mean Frame Std: 3.1\n",
      " Usual HotThresh: 15.501245877807072\n",
      "_________________________\n",
      "\n",
      " Set: X0_YP2\n",
      "-------------------------\n",
      " Hot Pixel Count (HotThresh = 9.71): 2305.0\n",
      " Hot Pixel Fraction (HotThresh = 9.71): 0.1086%\n",
      " Mean Frame Median: 4.0\n",
      " Mean Frame Std: 3.08\n",
      " Usual HotThresh: 15.42113160999639\n",
      "_________________________\n",
      "\n",
      " Set: X0_YP3\n",
      "-------------------------\n",
      " Hot Pixel Count (HotThresh = 9.71): 2320.0\n",
      " Hot Pixel Fraction (HotThresh = 9.71): 0.1093%\n",
      " Mean Frame Median: 4.0\n",
      " Mean Frame Std: 3.12\n",
      " Usual HotThresh: 15.598070291678628\n",
      "_________________________\n",
      "\n",
      " Set: XM2_Y0\n",
      "-------------------------\n",
      " Hot Pixel Count (HotThresh = 9.71): 4511.0\n",
      " Hot Pixel Fraction (HotThresh = 9.71): 0.2126%\n",
      " Mean Frame Median: 5.0\n",
      " Mean Frame Std: 3.04\n",
      " Usual HotThresh: 15.211109429918736\n",
      "_________________________\n",
      "\n",
      " Set: XM2_YM1\n",
      "-------------------------\n",
      " Hot Pixel Count (HotThresh = 9.71): 2159.0\n",
      " Hot Pixel Fraction (HotThresh = 9.71): 0.1018%\n",
      " Mean Frame Median: 4.0\n",
      " Mean Frame Std: 3.07\n",
      " Usual HotThresh: 15.358176907292592\n",
      "_________________________\n",
      "\n",
      " Set: XM2_YP1\n",
      "-------------------------\n",
      " Hot Pixel Count (HotThresh = 9.71): 1668.0\n",
      " Hot Pixel Fraction (HotThresh = 9.71): 0.0786%\n",
      " Mean Frame Median: 4.0\n",
      " Mean Frame Std: 3.06\n",
      " Usual HotThresh: 15.307032174931942\n",
      "_________________________\n",
      "\n",
      " Set: XP2_Y0\n",
      "-------------------------\n",
      " Hot Pixel Count (HotThresh = 9.71): 1662.0\n",
      " Hot Pixel Fraction (HotThresh = 9.71): 0.0783%\n",
      " Mean Frame Median: 4.0\n",
      " Mean Frame Std: 3.08\n",
      " Usual HotThresh: 15.381340732452504\n",
      "_________________________\n",
      "\n",
      " Set: XP2_YM1\n",
      "-------------------------\n",
      " Hot Pixel Count (HotThresh = 9.71): 2240.0\n",
      " Hot Pixel Fraction (HotThresh = 9.71): 0.1056%\n",
      " Mean Frame Median: 4.0\n",
      " Mean Frame Std: 3.11\n",
      " Usual HotThresh: 15.55802279145583\n",
      "_________________________\n",
      "\n",
      " Set: XP2_YP1\n",
      "-------------------------\n",
      " Hot Pixel Count (HotThresh = 9.71): 2303.0\n",
      " Hot Pixel Fraction (HotThresh = 9.71): 0.1085%\n",
      " Mean Frame Median: 4.0\n",
      " Mean Frame Std: 3.12\n",
      " Usual HotThresh: 15.575208850912379\n",
      "_________________________\n",
      "\n",
      " Set: XP4_Y0\n",
      "-------------------------\n",
      " Hot Pixel Count (HotThresh = 9.71): 2215.0\n",
      " Hot Pixel Fraction (HotThresh = 9.71): 0.1044%\n",
      " Mean Frame Median: 4.0\n",
      " Mean Frame Std: 3.11\n",
      " Usual HotThresh: 15.566612718578792\n",
      "_________________________\n",
      "\n",
      " Set: OldCS300msDark\n",
      "-------------------------\n",
      " Hot Pixel Count (HotThresh = 9.71): 1759.0\n",
      " Hot Pixel Fraction (HotThresh = 9.71): 0.0829%\n",
      " Mean Frame Median: 4.0\n",
      " Mean Frame Std: 1.14\n",
      " Usual HotThresh: 5.712012184264198\n",
      "_________________________\n",
      "\n",
      " Set: OldCS1000msDark\n",
      "-------------------------\n",
      " Hot Pixel Count (HotThresh = 9.71): 1252.0\n",
      " Hot Pixel Fraction (HotThresh = 9.71): 0.059%\n",
      " Mean Frame Median: 3.01\n",
      " Mean Frame Std: 1.46\n",
      " Usual HotThresh: 7.294367959626936\n",
      "_________________________\n"
     ]
    }
   ],
   "source": [
    "#Analyzing the most recent sets of Dark Frames using the same HotThres as the old 1000 ms darks\n",
    "SetNamesList = ['X0_Y0','X0_YM1','X0_YM2','X0_YM3','X0_YP1','X0_YP2','X0_YP3','XM2_Y0','XM2_YM1','XM2_YP1','XP2_Y0','XP2_YM1','XP2_YP1','XP4_Y0']\n",
    "DimY = 1096\n",
    "DimX = 1936\n",
    "hotsig = 5.0 #Number of stdevs above a frame's median a pixel must be to be considered hot.\n",
    "hotfrac = 0.1 #The fraction of the frames in a given set a certain pixel must be hot in order to be recorded as hot in the HotsArray\n",
    "HotThresh = 9.71\n",
    "DarkFrameName = 'PrelimMeanCS_Dark'\n",
    "HotsArrayName = 'PrelimHotsArray'\n",
    "\n",
    "ThreshHotCount = []\n",
    "ThreshHotFrac = []\n",
    "ThreshFrameMediansList = []\n",
    "ThreshFrameStdsList = []\n",
    "\n",
    "for i in range(len(SetNamesList)):\n",
    "    SetName = SetNamesList[i]\n",
    "    \n",
    "    #OpenDirectory\n",
    "    DataDirectory = 'SteadyStateDataSets/' + SetName + '\\CS_Darks/'\n",
    "    filepatternOpen = '*.FTS'\n",
    "    \n",
    "    #SaveDirectory\n",
    "    SaveDirectory = 'SteadyStateDataSets/' + SetName + ForwardSlash \n",
    "    \n",
    "    #print(datadirectoryOpen + folderOpen)\n",
    "    #print(datadirectorySave + folderSave)\n",
    "    #print(SaveDirectory)\n",
    "    MeanDarkFrame, HotsArray, FrameMedians, FrameStds = ReturnMasterDarkAndHotsArrayExtraThresh(DataDirectory,filepatternOpen,DimX,DimY,HotThresh,hotfrac)\n",
    "    \n",
    "    #np.savetxt(SaveDirectory + DarkFrameName +'.csv', MeanDarkFrame, delimiter=',')\n",
    "    #np.savetxt(SaveDirectory + HotsArrayName +'.csv', HotsArray, delimiter=',')\n",
    "    \n",
    "    #print(SetName + ' Preliminary Hot Pixel Count' + \": \" + str(np.sum(HotsArray)))\n",
    "    \n",
    "    ThreshHotCount.append(np.sum(HotsArray))\n",
    "    ThreshHotFrac.append(np.sum(HotsArray)/(DimX*DimY))\n",
    "    ThreshFrameMediansList.append(FrameMedians)\n",
    "    ThreshFrameStdsList.append(FrameStds)\n",
    "    \n",
    "#Analyzing old sets of Dark Frames\n",
    "ComboSetNamesList = SetNamesList\n",
    "\n",
    "#for entry in SetNamesList:\n",
    "    #ComboSetNamesList.append[entry]\n",
    "\n",
    "DataDirectory = 'OldCS300msDark/'\n",
    "filepatternOpen = '*.FTS'\n",
    "\n",
    "MeanDarkFrame, HotsArray, FrameMedians, FrameStds = ReturnMasterDarkAndHotsArrayExtraThresh(DataDirectory,filepatternOpen,DimX,DimY,HotThresh,hotfrac)\n",
    "\n",
    "ThreshHotCount.append(np.sum(HotsArray))\n",
    "ThreshHotFrac.append(np.sum(HotsArray)/(DimX*DimY))\n",
    "ThreshFrameMediansList.append(FrameMedians)\n",
    "ThreshFrameStdsList.append(FrameStds)\n",
    "\n",
    "ComboSetNamesList.append('OldCS300msDark')\n",
    "\n",
    "DataDirectory = 'OldCS1000msDark/'\n",
    "filepatternOpen = '*.FTS'\n",
    "\n",
    "MeanDarkFrame, HotsArray, FrameMedians, FrameStds = ReturnMasterDarkAndHotsArrayExtraThresh(DataDirectory,filepatternOpen,DimX,DimY,HotThresh,hotfrac)\n",
    "\n",
    "ThreshHotCount.append(np.sum(HotsArray))\n",
    "ThreshHotFrac.append(np.sum(HotsArray)/(DimX*DimY))\n",
    "ThreshFrameMediansList.append(FrameMedians)\n",
    "ThreshFrameStdsList.append(FrameStds)\n",
    "\n",
    "ComboSetNamesList.append('OldCS1000msDark')\n",
    "\n",
    "for i in range(len(ComboSetNamesList)):\n",
    "    SetName = ComboSetNamesList[i]\n",
    "    ThreshMeanFrameMedian = np.mean(ThreshFrameMediansList[i])\n",
    "    ThreshMeanFrameStd = np.mean(ThreshFrameStdsList[i])\n",
    "    hotsig = 5.0\n",
    "    Usual_HotThresh = ThreshMeanFrameMedian + ThreshMeanFrameStd*hotsig\n",
    "    print(\"_________________________\")\n",
    "    print(\"\")\n",
    "    print(\" Set: \"+ SetName)\n",
    "    print(\"-------------------------\")\n",
    "    print(\" Hot Pixel Count (HotThresh = 9.71): \" + str(ThreshHotCount[i]))\n",
    "    print(\" Hot Pixel Fraction (HotThresh = 9.71): \" + str(round(ThreshHotFrac[i]*100,4))+\"%\")\n",
    "    print(\" Mean Frame Median: \" + str(round(ThreshMeanFrameMedian,2)))\n",
    "    print(\" Mean Frame Std: \" + str(round(ThreshMeanFrameStd,2)))\n",
    "    print(\" Usual HotThresh: \" + str(Usual_HotThresh))\n",
    "    \n",
    "    \n",
    "print(\"_________________________\")"
   ]
  },
  {
   "cell_type": "code",
   "execution_count": 55,
   "id": "fe5156b3",
   "metadata": {},
   "outputs": [
    {
     "data": {
      "application/vnd.jupyter.widget-view+json": {
       "model_id": "1c6d03e38b694e1f8a3e65566a2f31b3",
       "version_major": 2,
       "version_minor": 0
      },
      "text/plain": [
       "  0%|          | 0/246 [00:00<?, ?it/s]"
      ]
     },
     "metadata": {},
     "output_type": "display_data"
    },
    {
     "name": "stderr",
     "output_type": "stream",
     "text": [
      "C:\\Users\\Colin Packard\\AppData\\Local\\Temp\\ipykernel_12804\\4245751307.py:104: RuntimeWarning: invalid value encountered in sqrt\n",
      "  StdDarkFrame = np.sqrt((SumDarkSquared/len(ImagesList)) - MeanDarkFrame**2)\n"
     ]
    },
    {
     "data": {
      "application/vnd.jupyter.widget-view+json": {
       "model_id": "135371ef0a6b4295b60a3ea85726efec",
       "version_major": 2,
       "version_minor": 0
      },
      "text/plain": [
       "  0%|          | 0/36 [00:00<?, ?it/s]"
      ]
     },
     "metadata": {},
     "output_type": "display_data"
    },
    {
     "data": {
      "application/vnd.jupyter.widget-view+json": {
       "model_id": "0370d9493164440dbcbf849402fae4d8",
       "version_major": 2,
       "version_minor": 0
      },
      "text/plain": [
       "  0%|          | 0/48 [00:00<?, ?it/s]"
      ]
     },
     "metadata": {},
     "output_type": "display_data"
    },
    {
     "data": {
      "application/vnd.jupyter.widget-view+json": {
       "model_id": "4979b4d304ab4d4a804573322db2d011",
       "version_major": 2,
       "version_minor": 0
      },
      "text/plain": [
       "  0%|          | 0/50 [00:00<?, ?it/s]"
      ]
     },
     "metadata": {},
     "output_type": "display_data"
    },
    {
     "data": {
      "application/vnd.jupyter.widget-view+json": {
       "model_id": "1e8ff3724e4b44608b7992ede67a0d0c",
       "version_major": 2,
       "version_minor": 0
      },
      "text/plain": [
       "  0%|          | 0/49 [00:00<?, ?it/s]"
      ]
     },
     "metadata": {},
     "output_type": "display_data"
    },
    {
     "data": {
      "application/vnd.jupyter.widget-view+json": {
       "model_id": "e3f98b26408e4376936347e5fda6996f",
       "version_major": 2,
       "version_minor": 0
      },
      "text/plain": [
       "  0%|          | 0/49 [00:00<?, ?it/s]"
      ]
     },
     "metadata": {},
     "output_type": "display_data"
    },
    {
     "data": {
      "application/vnd.jupyter.widget-view+json": {
       "model_id": "ca1b5bd09564418385811fa60fb8e543",
       "version_major": 2,
       "version_minor": 0
      },
      "text/plain": [
       "  0%|          | 0/49 [00:00<?, ?it/s]"
      ]
     },
     "metadata": {},
     "output_type": "display_data"
    },
    {
     "data": {
      "application/vnd.jupyter.widget-view+json": {
       "model_id": "e6c49932fcd74cc891d0fb30945d5195",
       "version_major": 2,
       "version_minor": 0
      },
      "text/plain": [
       "  0%|          | 0/36 [00:00<?, ?it/s]"
      ]
     },
     "metadata": {},
     "output_type": "display_data"
    },
    {
     "data": {
      "application/vnd.jupyter.widget-view+json": {
       "model_id": "396c9a04ef6c4926a6b4fea8f543828b",
       "version_major": 2,
       "version_minor": 0
      },
      "text/plain": [
       "  0%|          | 0/48 [00:00<?, ?it/s]"
      ]
     },
     "metadata": {},
     "output_type": "display_data"
    },
    {
     "data": {
      "application/vnd.jupyter.widget-view+json": {
       "model_id": "7bdd4768653840008f9c8ff285816410",
       "version_major": 2,
       "version_minor": 0
      },
      "text/plain": [
       "  0%|          | 0/51 [00:00<?, ?it/s]"
      ]
     },
     "metadata": {},
     "output_type": "display_data"
    },
    {
     "data": {
      "application/vnd.jupyter.widget-view+json": {
       "model_id": "3f7a0a0a04ed4484bbef0b77b8481ac7",
       "version_major": 2,
       "version_minor": 0
      },
      "text/plain": [
       "  0%|          | 0/40 [00:00<?, ?it/s]"
      ]
     },
     "metadata": {},
     "output_type": "display_data"
    },
    {
     "data": {
      "application/vnd.jupyter.widget-view+json": {
       "model_id": "056a243d79554ee9be827836517bfe4b",
       "version_major": 2,
       "version_minor": 0
      },
      "text/plain": [
       "  0%|          | 0/49 [00:00<?, ?it/s]"
      ]
     },
     "metadata": {},
     "output_type": "display_data"
    },
    {
     "data": {
      "application/vnd.jupyter.widget-view+json": {
       "model_id": "efc3cccf3d7d4911b80b6c87a8c1cd92",
       "version_major": 2,
       "version_minor": 0
      },
      "text/plain": [
       "  0%|          | 0/49 [00:00<?, ?it/s]"
      ]
     },
     "metadata": {},
     "output_type": "display_data"
    },
    {
     "data": {
      "application/vnd.jupyter.widget-view+json": {
       "model_id": "585e50fd03e2411eb656c3fc2322cb2a",
       "version_major": 2,
       "version_minor": 0
      },
      "text/plain": [
       "  0%|          | 0/48 [00:00<?, ?it/s]"
      ]
     },
     "metadata": {},
     "output_type": "display_data"
    },
    {
     "data": {
      "application/vnd.jupyter.widget-view+json": {
       "model_id": "8d3cf25003d44edfa4a103755bfd688a",
       "version_major": 2,
       "version_minor": 0
      },
      "text/plain": [
       "  0%|          | 0/99 [00:00<?, ?it/s]"
      ]
     },
     "metadata": {},
     "output_type": "display_data"
    },
    {
     "data": {
      "application/vnd.jupyter.widget-view+json": {
       "model_id": "40d47eb7bc4241ba8c127327e350daea",
       "version_major": 2,
       "version_minor": 0
      },
      "text/plain": [
       "  0%|          | 0/99 [00:00<?, ?it/s]"
      ]
     },
     "metadata": {},
     "output_type": "display_data"
    },
    {
     "name": "stdout",
     "output_type": "stream",
     "text": [
      "_________________________\n",
      "\n",
      " Set: X0_Y0\n",
      "-------------------------\n",
      " Hot Pixel Count (HotThresh = 10.30): 782.0\n",
      " Hot Pixel Fraction (HotThresh = 10.30): 0.0369%\n",
      " Mean Frame Median: 4.0\n",
      " Mean Frame Std: 3.1\n",
      " Usual HotThresh: 19.51359865976557\n",
      "_________________________\n",
      "\n",
      " Set: X0_YM1\n",
      "-------------------------\n",
      " Hot Pixel Count (HotThresh = 10.30): 890.0\n",
      " Hot Pixel Fraction (HotThresh = 10.30): 0.0419%\n",
      " Mean Frame Median: 4.0\n",
      " Mean Frame Std: 3.07\n",
      " Usual HotThresh: 19.33456501456378\n",
      "_________________________\n",
      "\n",
      " Set: X0_YM2\n",
      "-------------------------\n",
      " Hot Pixel Count (HotThresh = 10.30): 893.0\n",
      " Hot Pixel Fraction (HotThresh = 10.30): 0.0421%\n",
      " Mean Frame Median: 4.0\n",
      " Mean Frame Std: 3.12\n",
      " Usual HotThresh: 19.583176452740013\n",
      "_________________________\n",
      "\n",
      " Set: X0_YM3\n",
      "-------------------------\n",
      " Hot Pixel Count (HotThresh = 10.30): 774.0\n",
      " Hot Pixel Fraction (HotThresh = 10.30): 0.0365%\n",
      " Mean Frame Median: 4.0\n",
      " Mean Frame Std: 3.11\n",
      " Usual HotThresh: 19.548800430783757\n",
      "_________________________\n",
      "\n",
      " Set: X0_YP1\n",
      "-------------------------\n",
      " Hot Pixel Count (HotThresh = 10.30): 894.0\n",
      " Hot Pixel Fraction (HotThresh = 10.30): 0.0421%\n",
      " Mean Frame Median: 4.0\n",
      " Mean Frame Std: 3.1\n",
      " Usual HotThresh: 19.501245877807072\n",
      "_________________________\n",
      "\n",
      " Set: X0_YP2\n",
      "-------------------------\n",
      " Hot Pixel Count (HotThresh = 10.30): 950.0\n",
      " Hot Pixel Fraction (HotThresh = 10.30): 0.0448%\n",
      " Mean Frame Median: 4.0\n",
      " Mean Frame Std: 3.08\n",
      " Usual HotThresh: 19.42113160999639\n",
      "_________________________\n",
      "\n",
      " Set: X0_YP3\n",
      "-------------------------\n",
      " Hot Pixel Count (HotThresh = 10.30): 936.0\n",
      " Hot Pixel Fraction (HotThresh = 10.30): 0.0441%\n",
      " Mean Frame Median: 4.0\n",
      " Mean Frame Std: 3.12\n",
      " Usual HotThresh: 19.598070291678628\n",
      "_________________________\n",
      "\n",
      " Set: XM2_Y0\n",
      "-------------------------\n",
      " Hot Pixel Count (HotThresh = 10.30): 2098.0\n",
      " Hot Pixel Fraction (HotThresh = 10.30): 0.0989%\n",
      " Mean Frame Median: 5.0\n",
      " Mean Frame Std: 3.04\n",
      " Usual HotThresh: 20.211109429918736\n",
      "_________________________\n",
      "\n",
      " Set: XM2_YM1\n",
      "-------------------------\n",
      " Hot Pixel Count (HotThresh = 10.30): 884.0\n",
      " Hot Pixel Fraction (HotThresh = 10.30): 0.0417%\n",
      " Mean Frame Median: 4.0\n",
      " Mean Frame Std: 3.07\n",
      " Usual HotThresh: 19.35817690729259\n",
      "_________________________\n",
      "\n",
      " Set: XM2_YP1\n",
      "-------------------------\n",
      " Hot Pixel Count (HotThresh = 10.30): 772.0\n",
      " Hot Pixel Fraction (HotThresh = 10.30): 0.0364%\n",
      " Mean Frame Median: 4.0\n",
      " Mean Frame Std: 3.06\n",
      " Usual HotThresh: 19.30703217493194\n",
      "_________________________\n",
      "\n",
      " Set: XP2_Y0\n",
      "-------------------------\n",
      " Hot Pixel Count (HotThresh = 10.30): 746.0\n",
      " Hot Pixel Fraction (HotThresh = 10.30): 0.0352%\n",
      " Mean Frame Median: 4.0\n",
      " Mean Frame Std: 3.08\n",
      " Usual HotThresh: 19.381340732452504\n",
      "_________________________\n",
      "\n",
      " Set: XP2_YM1\n",
      "-------------------------\n",
      " Hot Pixel Count (HotThresh = 10.30): 893.0\n",
      " Hot Pixel Fraction (HotThresh = 10.30): 0.0421%\n",
      " Mean Frame Median: 4.0\n",
      " Mean Frame Std: 3.11\n",
      " Usual HotThresh: 19.55802279145583\n",
      "_________________________\n",
      "\n",
      " Set: XP2_YP1\n",
      "-------------------------\n",
      " Hot Pixel Count (HotThresh = 10.30): 935.0\n",
      " Hot Pixel Fraction (HotThresh = 10.30): 0.0441%\n",
      " Mean Frame Median: 4.0\n",
      " Mean Frame Std: 3.12\n",
      " Usual HotThresh: 19.57520885091238\n",
      "_________________________\n",
      "\n",
      " Set: XP4_Y0\n",
      "-------------------------\n",
      " Hot Pixel Count (HotThresh = 10.30): 926.0\n",
      " Hot Pixel Fraction (HotThresh = 10.30): 0.0436%\n",
      " Mean Frame Median: 4.0\n",
      " Mean Frame Std: 3.11\n",
      " Usual HotThresh: 19.566612718578792\n",
      "_________________________\n",
      "\n",
      " Set: OldCS300msDark\n",
      "-------------------------\n",
      " Hot Pixel Count (HotThresh = 10.30): 979.0\n",
      " Hot Pixel Fraction (HotThresh = 10.30): 0.0461%\n",
      " Mean Frame Median: 4.0\n",
      " Mean Frame Std: 1.14\n",
      " Usual HotThresh: 9.712012184264198\n",
      "_________________________\n",
      "\n",
      " Set: OldCS1000msDark\n",
      "-------------------------\n",
      " Hot Pixel Count (HotThresh = 10.30): 727.0\n",
      " Hot Pixel Fraction (HotThresh = 10.30): 0.0343%\n",
      " Mean Frame Median: 3.01\n",
      " Mean Frame Std: 1.46\n",
      " Usual HotThresh: 10.304468969727946\n",
      "_________________________\n"
     ]
    }
   ],
   "source": [
    "#Analyzing the most recent sets of Dark Frames using the same HotThres as the old 1000 ms darks\n",
    "SetNamesList = ['X0_Y0','X0_YM1','X0_YM2','X0_YM3','X0_YP1','X0_YP2','X0_YP3','XM2_Y0','XM2_YM1','XM2_YP1','XP2_Y0','XP2_YM1','XP2_YP1','XP4_Y0']\n",
    "DimY = 1096\n",
    "DimX = 1936\n",
    "hotsig = 5.0 #Number of stdevs above a frame's median a pixel must be to be considered hot.\n",
    "hotfrac = 0.1 #The fraction of the frames in a given set a certain pixel must be hot in order to be recorded as hot in the HotsArray\n",
    "HotThresh = 10.30\n",
    "DarkFrameName = 'PrelimMeanCS_Dark'\n",
    "HotsArrayName = 'PrelimHotsArray'\n",
    "\n",
    "ThreshHotCount = []\n",
    "ThreshHotFrac = []\n",
    "ThreshFrameMediansList = []\n",
    "ThreshFrameStdsList = []\n",
    "\n",
    "for i in range(len(SetNamesList)):\n",
    "    SetName = SetNamesList[i]\n",
    "    \n",
    "    #OpenDirectory\n",
    "    DataDirectory = 'SteadyStateDataSets/' + SetName + '\\CS_Darks/'\n",
    "    filepatternOpen = '*.FTS'\n",
    "    \n",
    "    #SaveDirectory\n",
    "    SaveDirectory = 'SteadyStateDataSets/' + SetName + ForwardSlash \n",
    "    \n",
    "    #print(datadirectoryOpen + folderOpen)\n",
    "    #print(datadirectorySave + folderSave)\n",
    "    #print(SaveDirectory)\n",
    "    MeanDarkFrame, HotsArray, FrameMedians, FrameStds = ReturnMasterDarkAndHotsArrayExtraThresh(DataDirectory,filepatternOpen,DimX,DimY,HotThresh,hotfrac)\n",
    "    \n",
    "    #np.savetxt(SaveDirectory + DarkFrameName +'.csv', MeanDarkFrame, delimiter=',')\n",
    "    #np.savetxt(SaveDirectory + HotsArrayName +'.csv', HotsArray, delimiter=',')\n",
    "    \n",
    "    #print(SetName + ' Preliminary Hot Pixel Count' + \": \" + str(np.sum(HotsArray)))\n",
    "    \n",
    "    ThreshHotCount.append(np.sum(HotsArray))\n",
    "    ThreshHotFrac.append(np.sum(HotsArray)/(DimX*DimY))\n",
    "    ThreshFrameMediansList.append(FrameMedians)\n",
    "    ThreshFrameStdsList.append(FrameStds)\n",
    "    \n",
    "#Analyzing old sets of Dark Frames\n",
    "ComboSetNamesList = SetNamesList\n",
    "\n",
    "#for entry in SetNamesList:\n",
    "    #ComboSetNamesList.append[entry]\n",
    "\n",
    "DataDirectory = 'OldCS300msDark/'\n",
    "filepatternOpen = '*.FTS'\n",
    "\n",
    "MeanDarkFrame, HotsArray, FrameMedians, FrameStds = ReturnMasterDarkAndHotsArrayExtraThresh(DataDirectory,filepatternOpen,DimX,DimY,HotThresh,hotfrac)\n",
    "\n",
    "ThreshHotCount.append(np.sum(HotsArray))\n",
    "ThreshHotFrac.append(np.sum(HotsArray)/(DimX*DimY))\n",
    "ThreshFrameMediansList.append(FrameMedians)\n",
    "ThreshFrameStdsList.append(FrameStds)\n",
    "\n",
    "ComboSetNamesList.append('OldCS300msDark')\n",
    "\n",
    "DataDirectory = 'OldCS1000msDark/'\n",
    "filepatternOpen = '*.FTS'\n",
    "\n",
    "MeanDarkFrame, HotsArray, FrameMedians, FrameStds = ReturnMasterDarkAndHotsArrayExtraThresh(DataDirectory,filepatternOpen,DimX,DimY,HotThresh,hotfrac)\n",
    "\n",
    "ThreshHotCount.append(np.sum(HotsArray))\n",
    "ThreshHotFrac.append(np.sum(HotsArray)/(DimX*DimY))\n",
    "ThreshFrameMediansList.append(FrameMedians)\n",
    "ThreshFrameStdsList.append(FrameStds)\n",
    "\n",
    "ComboSetNamesList.append('OldCS1000msDark')\n",
    "\n",
    "for i in range(len(ComboSetNamesList)):\n",
    "    SetName = ComboSetNamesList[i]\n",
    "    ThreshMeanFrameMedian = np.mean(ThreshFrameMediansList[i])\n",
    "    ThreshMeanFrameStd = np.mean(ThreshFrameStdsList[i])\n",
    "    hotsig = 5.0\n",
    "    Usual_HotThresh = ThreshMeanFrameMedian + ThreshMeanFrameStd*hotsig\n",
    "    print(\"_________________________\")\n",
    "    print(\"\")\n",
    "    print(\" Set: \"+ SetName)\n",
    "    print(\"-------------------------\")\n",
    "    print(\" Hot Pixel Count (HotThresh = 10.30): \" + str(ThreshHotCount[i]))\n",
    "    print(\" Hot Pixel Fraction (HotThresh = 10.30): \" + str(round(ThreshHotFrac[i]*100,4))+\"%\")\n",
    "    print(\" Mean Frame Median: \" + str(round(ThreshMeanFrameMedian,2)))\n",
    "    print(\" Mean Frame Std: \" + str(round(ThreshMeanFrameStd,2)))\n",
    "    print(\" Usual HotThresh: \" + str(Usual_HotThresh))\n",
    "    \n",
    "    \n",
    "print(\"_________________________\")"
   ]
  },
  {
   "cell_type": "markdown",
   "id": "879d2317",
   "metadata": {},
   "source": [
    "***\n",
    "### Making and Open Shutter Dark Frame for (0,2) 981 eV Frames"
   ]
  },
  {
   "cell_type": "code",
   "execution_count": null,
   "id": "ac150bf0",
   "metadata": {},
   "outputs": [],
   "source": [
    "DimY = 1096\n",
    "DimX = 1936\n",
    "hotsig = 5.0 #Number of stdevs above a frame's median a pixel must be to be considered hot.\n",
    "hotfrac = 0.1 #The fraction of the frames in a given set a certain pixel must be hot in order to be recorded as hot in the HotsArray\n",
    "\n",
    "DarkFrameName = 'PrelimMeanCS_Dark'\n",
    "HotsArrayName = 'HotsArray'\n",
    "\n",
    "SetName = 'X0_YP2_981eV'\n",
    "datadirectory = 'SteadyStateDataSets/Gain_Data/' + SetName +\"/CS_Darks/\"\n",
    "filepattern = '*.FTS'\n",
    "\n",
    "SaveDirectory = 'SteadyStateDataSets/Gain_Data/' + SetName + ForwardSlash \n",
    "\n",
    "MeanDarkFrame, HotsArray = ut.ReturnMasterDarkAndHotsArray(datadirectory,filepattern,DimX,DimY,hotsig,hotfrac)\n",
    "\n",
    "\n",
    "np.savetxt(SaveDirectory + DarkFrameName +'.csv', MeanDarkFrame, delimiter=',')\n",
    "np.savetxt(SaveDirectory + HotsArrayName +'.csv', HotsArray, delimiter=',')"
   ]
  },
  {
   "cell_type": "code",
   "execution_count": 26,
   "id": "9dc9ea6e",
   "metadata": {},
   "outputs": [
    {
     "data": {
      "application/vnd.jupyter.widget-view+json": {
       "model_id": "8864414f28e4432fbdc480f25ea02f11",
       "version_major": 2,
       "version_minor": 0
      },
      "text/plain": [
       "  0%|          | 0/298 [00:00<?, ?it/s]"
      ]
     },
     "metadata": {},
     "output_type": "display_data"
    },
    {
     "name": "stderr",
     "output_type": "stream",
     "text": [
      "C:\\Users\\Colin Packard\\PythonWorkspace\\Argonne12_01\\Utility3_4.py:523: RuntimeWarning: invalid value encountered in sqrt\n",
      "  SampleStdFrame = np.sqrt(MeanSquaredDark - (OS_MeanDarkFrame**2))\n"
     ]
    }
   ],
   "source": [
    "# Making an OS Dark Frame fro 981 eV data\n",
    "SetName = 'X0_YP2_981eV'\n",
    "\n",
    "Directory1 = 'SteadyStateDataSets/Gain_Data/' + SetName + ForwardSlash \n",
    "Directory2 = 'SteadyStateDataSets/Gain_Data/' + SetName + '/CroppedROI1/'\n",
    "Directory3 = Directory1 + \"BeamImages/\"\n",
    "Directory4 = Directory2 + \"BeamImages/\"\n",
    "\n",
    "DarkFrameName = 'PrelimMeanCS_Dark'\n",
    "HotsArrayName = 'HotsArray'\n",
    "MeanDarkFrame = np.loadtxt(Directory1 + DarkFrameName + '.csv', delimiter=',')\n",
    "HotsArray = np.loadtxt(Directory1 + HotsArrayName + '.csv', delimiter=',')\n",
    "\n",
    "IntegrationRegionSize = 5\n",
    "thres = 20\n",
    "\n",
    "filepattern = '*.FTS'\n",
    "FileNamesList = glob2.glob(Directory3 + filepattern)\n",
    "\n",
    "ImagesList = ut.MakeImagesList(FileNamesList,1)\n",
    "\n",
    "OS_MasterDarkFrame, N_Array, SampleStdFrame, StandardErrorOfMeanFrame, SumDarkArray, DivideByArray = ut.MakeMasterIlluminatedDarkFrameStandard(ImagesList,\n",
    "                                                                MeanDarkFrame,HotsArray,DimX,\n",
    "                                                                DimY,IntegrationRegionSize,thres)\n",
    "\n",
    "np.savetxt(Directory2 + 'OS_MasterDarkFrame' +'.csv', OS_MasterDarkFrame, delimiter=',')"
   ]
  },
  {
   "cell_type": "code",
   "execution_count": null,
   "id": "737247fb",
   "metadata": {},
   "outputs": [],
   "source": []
  }
 ],
 "metadata": {
  "kernelspec": {
   "display_name": "Python 3 (ipykernel)",
   "language": "python",
   "name": "python3"
  },
  "language_info": {
   "codemirror_mode": {
    "name": "ipython",
    "version": 3
   },
   "file_extension": ".py",
   "mimetype": "text/x-python",
   "name": "python",
   "nbconvert_exporter": "python",
   "pygments_lexer": "ipython3",
   "version": "3.10.6"
  }
 },
 "nbformat": 4,
 "nbformat_minor": 5
}
